{
 "cells": [
  {
   "cell_type": "markdown",
   "metadata": {},
   "source": [
    "# Smart Finance Assistant - Starter Notebook Scaffold\n",
    "## ISYS2001: Introduction to Business Programming"
   ]
  },
  {
   "cell_type": "markdown",
   "metadata": {},
   "source": [
    "### Initial Setup\n",
    "This cell installs the necessary libraries. In a Colab environment, you would uncomment the first line."
   ]
  },
  {
   "cell_type": "code",
   "execution_count": null,
   "metadata": {},
   "outputs": [],
   "source": [
    "!pip install gradio pandas hands-on-ai"
   ]
  },
  {
   "cell_type": "markdown",
   "metadata": {},
   "source": [
    "Then to use the package we need to set some environment variable. The cell below sets this up:"
   ]
  },
  {
   "cell_type": "code",
   "execution_count": null,
   "metadata": {},
   "outputs": [],
   "source": [
    "import os\n",
    "\n",
    "os.environ['HANDS_ON_AI_SERVER'] = 'http://ollama.serveur.au'\n",
    "os.environ['HANDS_ON_AI_MODEL'] = 'granite3.2'\n",
    "os.environ['HANDS_ON_AI_API_KEY'] = input('Enter your API key: ')"
   ]
  },
  {
   "cell_type": "markdown",
   "metadata": {},
   "source": [
    "### STEP 1: Understand the Problem\n",
    "In this Markdown cell, restate your chosen finance problem in plain English.\n",
    "\n",
    "*Example: \"I want to help users upload a CSV of expenses and get spending advice.\"*\n",
    "\n",
    