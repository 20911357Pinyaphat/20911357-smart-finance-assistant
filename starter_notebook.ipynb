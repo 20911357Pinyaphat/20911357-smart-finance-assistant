{
 "cells": [
  {
   "cell_type": "markdown",
   "metadata": {},
   "source": [
    "# Smart Finance Assistant - Starter Notebook Scaffold\n",
    "## ISYS2001: Introduction to Business Programming"
   ]
  },
  {
   "cell_type": "markdown",
   "metadata": {},
   "source": [
    "### Initial Setup\n",
    "This cell installs the necessary libraries. In a Colab environment, you would uncomment the first line."
   ]
  },
  {
   "cell_type": "code",
   "execution_count": null,
   "metadata": {},
   "outputs": [],
   "source": [
    "!pip install gradio pandas hands-on-ai"
   ]
  },
  {
   "cell_type": "markdown",
   "metadata": {},
   "source": [
    "Then to use the package we need to set some environment variable. The cell below sets this up:"
   ]
  },
  {
   "cell_type": "code",
   "execution_count": null,
   "metadata": {},
   "outputs": [],
   "source": [
    "import os\n",
    "\n",
    "os.environ['HANDS_ON_AI_SERVER'] = 'http://ollama.serveur.au'\n",
    "os.environ['HANDS_ON_AI_MODEL'] = 'granite3.2'\n",
    "os.environ['HANDS_ON_AI_API_KEY'] = input('Enter your API key: ')"
   ]
  },
  {
   "cell_type": "markdown",
   "metadata": {},
   "source": [
    "### STEP 1: Understand the Problem\n",
    "In this Markdown cell, restate your chosen finance problem in plain English.\n",
    "\n",
    "*Example: \"I want to help users upload a CSV of expenses and get spending advice.\"*\n",
    "\n",
    "🤖 **AI Prompt Idea:** 'Help me brainstorm some personal finance problems that could be solved with a simple app. I'm interested in budgeting.'"
   ]
  },
  {
   "cell_type": "markdown",
   "metadata": {},
   "source": [
    "### STEP 2: Identify Inputs and Outputs\n",
    "In this Markdown cell, describe the inputs and outputs.\n",
    "\n",
    "*Example: Input = CSV file with 'Date', 'Description', and 'Amount' columns; Output = total expenses, average spending per day, and a warning if any expense is over $100.*\n",
    "\n",
    "🤖 **AI Prompt Idea:** 'For a problem like helping users get spending advice from a CSV, what are the typical inputs and outputs I should consider?'"
   ]
  },
  {
   "cell_type": "markdown",
   "metadata": {},
   "source": [
    "### STEP 3: Work the Problem by Hand\n",
    "Show at least 2–3 worked examples. These can be tables, markdown, or screenshots.\n",
    "\n",
    "*Example: Given this CSV data:*\n",
    "| Date       | Description | Amount |\n",
    "|------------|-------------|--------|\n",
    "| 2025-07-01 | Coffee      | 5.00   |\n",
    "| 2025-07-01 | Lunch       | 15.00  |\n",
    "| 2025-07-02 | Groceries   | 120.00 |\n",
    "\n",
    "*Hand-calculated output:*\n",
    "- Total Expenses: $140.00\n",
    "- Average Spending: $70.00\n",
    