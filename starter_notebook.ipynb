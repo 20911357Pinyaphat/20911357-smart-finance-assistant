{
 "cells": [
  {
   "cell_type": "markdown",
   "metadata": {},
   "source": [
    "# Smart Finance Assistant - Starter Notebook Scaffold\n",
    "## ISYS2001: Introduction to Business Programming"
   ]
  },
  {
   "cell_type": "markdown",
   "metadata": {},
   "source": [
    "### Initial Setup\n",
    "This cell installs the necessary libraries. In a Colab environment, you would uncomment the first line."
   ]
  },
  {
   "cell_type": "code",
   "execution_count": null,
   "metadata": {},
   "outputs": [],
   "source": [
    "# !pip install gradio pandas hands-on-ai\n",
    "import gradio as gr\n",
    "import pandas as pd"
   ]
  },
  {
   "cell_type": "markdown",
   "metadata": {},
   "source": [
    "### STEP 1: Understand the Problem\n",
    "In this Markdown cell, restate your chosen finance problem in plain English.\n",
    "\n",
    "*Example: \"I want to help users upload a CSV of expenses and get spending advice.\"*\n",
    "\n",