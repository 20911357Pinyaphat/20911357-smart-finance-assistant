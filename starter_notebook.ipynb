{
 "cells": [
  {
   "cell_type": "markdown",
   "metadata": {},
   "source": [
    "# Smart Finance Assistant - Starter Notebook Scaffold\n",
    "## ISYS2001: Introduction to Business Programming"
   ]
  },
  {
   "cell_type": "markdown",
   "metadata": {},
   "source": [
    "### Initial Setup\n",
    "This cell installs the necessary libraries. In a Colab environment, you would uncomment the first line."
   ]
  },
  {
   "cell_type": "code",
   "execution_count": null,
   "metadata": {},
   "outputs": [],
   "source": [
    "!pip install gradio pandas hands-on-ai"
   ]
  },
  {
   "cell_type": "markdown",
   "metadata": {},
   "source": [
    "Then to use the package we need to set some environment variable. The cell below sets this up:"
   ]
  },
  {
   "cell_type": "code",
   "execution_count": null,
   "metadata": {},
   "outputs": [],
   "source": [
    "import os\n",
    "\n",
    "os.environ['HANDS_ON_AI_SERVER'] = 'http://ollama.serveur.au'\n",
    "os.environ['HANDS_ON_AI_MODEL'] = 'granite3.2'\n",
    "os.environ['HANDS_ON_AI_API_KEY'] = input('Enter your API key:')"
   ]
  },
  {
   "cell_type": "markdown",
   "metadata": {},
   "source": [
    "### STEP 1: Understand the Problem\n",
    "In this Markdown cell, restate your chosen finance problem in plain English.\n",
    "\n",
    "*Example: \"I want to help users upload a CSV of expenses and get spending advice.\"*\n",
    "\n",
    "🤖 **AI Prompt Idea:** 'Help me brainstorm some personal finance problems that could be solved with a simple app. I'm interested in budgeting.'"
   ]
  },
  {
   "cell_type": "markdown",
   "metadata": {},
   "source": [
    "### STEP 2: Identify Inputs and Outputs\n",
    "In this Markdown cell, describe the inputs and outputs.\n",
    "\n",
    "*Example: Input = CSV file with 'Date', 'Description', and 'Amount' columns; Output = total expenses, average spending per day, and a warning if any expense is over $100.*\n",
    "\n",
    "🤖 **AI Prompt Idea:** 'For a problem like helping users get spending advice from a CSV, what are the typical inputs and outputs I should consider?'"
   ]
  },
  {
   "cell_type": "markdown",
   "metadata": {},
   "source": [
    "### STEP 3: Work the Problem by Hand\n",
    "Show at least 2–3 worked examples. These can be tables, markdown, or screenshots.\n",
    "\n",
    "*Example: Given this CSV data:*\n",
    "| Date       | Description | Amount |\n",
    "|------------|-------------|--------|\n",
    "| 2025-07-01 | Coffee      | 5.00   |\n",
    "| 2025-07-01 | Lunch       | 15.00  |\n",
    "| 2025-07-02 | Groceries   | 120.00 |\n",
    "\n",
    "*Hand-calculated output:*\n",
    "- Total Expenses: $140.00\n",
    "- Average Spending: $70.00\n",
    "- Warning: 'Groceries' expense is over $100.\n",
    "\n",
    "🤖 **AI Prompt Idea:** 'Give me a simple example of a CSV file with columns Date, Description, and Amount, and show me how you would manually calculate the total and average spending.'"
   ]
  },
  {
   "cell_type": "markdown",
   "metadata": {},
   "source": [
    "### STEP 4: Write Pseudocode\n",
    "In this cell, sketch the logic in comments before coding.\n",
    "\n",
    "*Example:*\n",
    "```\n",
    "# Function to analyze expenses\n",
    "# Input: CSV file\n",
    "# Output: String with summary\n",
    "\n",
    "# Read the CSV file into a pandas DataFrame\n",
    "# Calculate the total of the 'Amount' column\n",
    "# Calculate the average of the 'Amount' column\n",
    "# Find any expenses over $100\n",
    "# Format the output string with the results\n",
    "# Return the output string\n",
    "```\n",
    "\n",
    "🤖 **AI Prompt Idea:** 'Review my pseudocode for analyzing expenses from a CSV. Is it logical? Are there any edge cases I'm missing?'"
   ]
  },
  {
   "cell_type": "markdown",
   "metadata": {},
   "source": [
    "### STEP 5: Convert to Python\n",
    "Implement your solution here. Use `hands-on-ai` where possible for chat, RAG, or agent tools."
   ]
  },
  {
   "cell_type": "code",
   "execution_count": null,
   "metadata": {},
   "outputs": [],
   "source": [
    "# This is a placeholder function. You will replace this with your own implementation.\n",
    "def summarize_csv(file):\n",
    "    try:\n",
    "        df = pd.read_csv(file.name)\n",
    "        total = df[\"Amount\"].sum()\n",
    "        avg = df[\"Amount\"]\n",
    "        large_expenses = df[df['Amount'] > 100]\n",
    "        \n",
    "        summary = f\"Total Expenses: ${total:.2f}\\nAverage Spending: ${avg:.2f}\"\n",
    "        \n",
    "        if not large_expenses.empty:\n",
    "            summary += \"\\n\\nWarning: The following expenses are over $100:\\n\"\n",
    "            for index, row in large_expenses.iterrows():\n",
    "                summary += f\"- {row['Description']}: ${row['Amount']:.2f}\\n\"\n",
    "        \n",
    "        return summary\n",
    "    except Exception as e:\n",
    "        return f\"An error occurred: {e}\"\n",
    "    \n",
    "# TODO: Integrate a chatbot, RAG, or a custom tool using hands-on-ai."
   ]
  },
  {
   "cell_type": "markdown",
   "metadata": {},
   "source": [
    "### Gradio UI Placeholder\n",
    "This cell wraps your functions in a simple Gradio interface. You can customize this as you add more features."
   ]
  },
  {
   "cell_type": "code",
   "execution_count": null,
   "metadata": {},
   "outputs": [],
   "source": [
    "demo = gr.Interface(
",
    "    fn=summarize_csv,
",
    "    inputs=gr.File(label=\"Upload Expenses CSV\"),
",
    "    outputs=\"text\",
",
    "    title=\"Smart Finance Assistant\",
",
    "    description=\"Upload a CSV file with 'Date', 'Description', and 'Amount' columns to get a summary of your expenses.\"
",
    ")\n",
    "\n",
    "demo.launch()"
   ]
  },
  {
   "cell_type": "markdown",
   "metadata": {},
   "source": [
    "### STEP 6: Test with a Variety of Data\n",
    "Add a Testing Section below. Use `assert` statements to test your functions. This section should be in a separate code cell."
   ]
  },
  {
   "cell_type": "code",
   "execution_count": null,
   "metadata": {},
   "outputs": [],
   "source": [
    "# Example of how to create a dummy CSV for testing\n",
    "import os\n",
    "\n",
    "def create_test_csv(filename, data):\n",
    "    df = pd.DataFrame(data)\n",
    "    df.to_csv(filename, index=False)\n",
    "\n",
    "# Test case 1: Normal data\n",
    "test_data_1 = {\n",
    "    'Date': ['2025-07-01', '2025-07-01', '2025-07-02'],\n",
    "    'Description': ['Coffee', 'Lunch', 'Groceries'],\n",
    "    'Amount': [5.00, 15.00, 120.00]\n",
    "}\n",
    "create_test_csv('test1.csv', test_data_1)\n",
    "\n",
    "# Dummy file object for testing\n",
    "class DummyFile:\n",
    "    def __init__(self, name):\n",
    "        self.name = name\n",
    "\n",
    "# Expected output for test case 1\n",
    "expected_output_1 = \"Total Expenses: $140.00\\nAverage Spending: $46.67\\n\\nWarning: The following expenses are over $100:\\n- Groceries: $120.00\\n\"\n",
    "# assert summarize_csv(DummyFile('test1.csv')) == expected_output_1\n",
    "\n",
    "# Test case 2: No large expenses\n",
    "test_data_2 = {\n",
    "    'Date': ['2025-07-03', '2025-07-04'],\n",
    "    'Description': ['Movie', 'Dinner'],\n",
    "    'Amount': [25.00, 50.00]\n",
    "}\n",
    "create_test_csv('test2.csv', test_data_2)\n",
    "# assert summarize_csv(DummyFile('test2.csv')) == \"...\" # Add expected output\n",
    "\n",
    "# Test case 3: Empty file\n",
    "# create_test_csv('test3.csv', { })\n",
    "# assert summarize_csv(DummyFile('test3.csv')) == \"...\" # Add expected output for error or empty case\n",
    "\n",
    "print(\"Testing section placeholder - uncomment and add more asserts here\")"
   ]
  }
 ],
 "metadata": {
  "kernelspec": {
   "display_name": "Python 3",
   "language": "python",
   "name": "python3"
  },
  "language_info": {
   "codemirror_mode": {
    "name": "ipython",
    "version": 3
   },
   "file_extension": ".py",
   "mimetype": "text/x-python",
   "name": "python",
   "nbconvert_exporter": "python",
   "pygments_lexer": "ipython3",
   "version": "3.9.12"
  }
 },
 "nbformat": 4,
 "nbformat_minor": 2
}