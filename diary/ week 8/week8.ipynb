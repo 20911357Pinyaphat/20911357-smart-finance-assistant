{
  "cells": [
    {
      "cell_type": "markdown",
      "metadata": {
        "id": "view-in-github",
        "colab_type": "text"
      },
      "source": [
        "<a href=\"https://colab.research.google.com/github/20911357Pinyaphat/20911357-smart-finance-assistant/blob/main/diary/%20week8.ipynb\" target=\"_parent\"><img src=\"https://colab.research.google.com/assets/colab-badge.svg\" alt=\"Open In Colab\"/></a>"
      ]
    },
    {
      "cell_type": "markdown",
      "metadata": {
        "id": "qfiUrlhmDnt6"
      },
      "source": [
        "# Building a Financial Advisor Chatbot\n",
        "**Learn to create an AI-powered financial assistant using hands-on-ai**\n",
        "\n",
        "## What You'll Build\n",
        "A simple chatbot that acts as a \"Financial Sage\" - giving educational financial advice and analyzing transaction data from CSV files.\n",
        "\n",
        "## Setup\n",
        "\n",
        "1First install package"
      ]
    },
    {
      "cell_type": "code",
      "metadata": {
        "id": "gIcEiSdbDnuA",
        "colab": {
          "base_uri": "https://localhost:8080/"
        },
        "outputId": "c8f7e2a5-997f-4df4-c9aa-a610794a5653"
      },
      "source": [
        "# Install required packages\n",
        "!pip install hands-on-ai pandas"
      ],
      "execution_count": 1,
      "outputs": [
        {
          "output_type": "stream",
          "name": "stdout",
          "text": [
            "Collecting hands-on-ai\n",
            "  Downloading hands_on_ai-0.2.1-py3-none-any.whl.metadata (9.2 kB)\n",
            "Requirement already satisfied: pandas in /usr/local/lib/python3.12/dist-packages (2.2.2)\n",
            "Requirement already satisfied: requests in /usr/local/lib/python3.12/dist-packages (from hands-on-ai) (2.32.4)\n",
            "Requirement already satisfied: typer in /usr/local/lib/python3.12/dist-packages (from hands-on-ai) (0.19.2)\n",
            "Collecting python-fasthtml (from hands-on-ai)\n",
            "  Downloading python_fasthtml-0.12.29-py3-none-any.whl.metadata (9.3 kB)\n",
            "Collecting python-docx (from hands-on-ai)\n",
            "  Downloading python_docx-1.2.0-py3-none-any.whl.metadata (2.0 kB)\n",
            "Collecting pymupdf (from hands-on-ai)\n",
            "  Downloading pymupdf-1.26.5-cp39-abi3-manylinux_2_28_x86_64.whl.metadata (3.4 kB)\n",
            "Requirement already satisfied: scikit-learn in /usr/local/lib/python3.12/dist-packages (from hands-on-ai) (1.6.1)\n",
            "Requirement already satisfied: numpy in /usr/local/lib/python3.12/dist-packages (from hands-on-ai) (2.0.2)\n",
            "Collecting instructor>=1.11.0 (from hands-on-ai)\n",
            "  Downloading instructor-1.11.3-py3-none-any.whl.metadata (11 kB)\n",
            "Requirement already satisfied: pydantic>=2.0 in /usr/local/lib/python3.12/dist-packages (from hands-on-ai) (2.11.10)\n",
            "Requirement already satisfied: python-dateutil>=2.8.2 in /usr/local/lib/python3.12/dist-packages (from pandas) (2.9.0.post0)\n",
            "Requirement already satisfied: pytz>=2020.1 in /usr/local/lib/python3.12/dist-packages (from pandas) (2025.2)\n",
            "Requirement already satisfied: tzdata>=2022.7 in /usr/local/lib/python3.12/dist-packages (from pandas) (2025.2)\n",
            "Requirement already satisfied: aiohttp<4.0.0,>=3.9.1 in /usr/local/lib/python3.12/dist-packages (from instructor>=1.11.0->hands-on-ai) (3.13.0)\n",
            "Collecting diskcache>=5.6.3 (from instructor>=1.11.0->hands-on-ai)\n",
            "  Downloading diskcache-5.6.3-py3-none-any.whl.metadata (20 kB)\n",
            "Requirement already satisfied: docstring-parser<1.0,>=0.16 in /usr/local/lib/python3.12/dist-packages (from instructor>=1.11.0->hands-on-ai) (0.17.0)\n",
            "Requirement already satisfied: jinja2<4.0.0,>=3.1.4 in /usr/local/lib/python3.12/dist-packages (from instructor>=1.11.0->hands-on-ai) (3.1.6)\n",
            "Collecting jiter<0.11,>=0.6.1 (from instructor>=1.11.0->hands-on-ai)\n",
            "  Downloading jiter-0.10.0-cp312-cp312-manylinux_2_17_x86_64.manylinux2014_x86_64.whl.metadata (5.2 kB)\n",
            "Requirement already satisfied: openai<2.0.0,>=1.70.0 in /usr/local/lib/python3.12/dist-packages (from instructor>=1.11.0->hands-on-ai) (1.109.1)\n",
            "Requirement already satisfied: pydantic-core<3.0.0,>=2.18.0 in /usr/local/lib/python3.12/dist-packages (from instructor>=1.11.0->hands-on-ai) (2.33.2)\n",
            "Requirement already satisfied: rich<15.0.0,>=13.7.0 in /usr/local/lib/python3.12/dist-packages (from instructor>=1.11.0->hands-on-ai) (13.9.4)\n",
            "Requirement already satisfied: tenacity<10.0.0,>=8.2.3 in /usr/local/lib/python3.12/dist-packages (from instructor>=1.11.0->hands-on-ai) (8.5.0)\n",
            "Requirement already satisfied: annotated-types>=0.6.0 in /usr/local/lib/python3.12/dist-packages (from pydantic>=2.0->hands-on-ai) (0.7.0)\n",
            "Requirement already satisfied: typing-extensions>=4.12.2 in /usr/local/lib/python3.12/dist-packages (from pydantic>=2.0->hands-on-ai) (4.15.0)\n",
            "Requirement already satisfied: typing-inspection>=0.4.0 in /usr/local/lib/python3.12/dist-packages (from pydantic>=2.0->hands-on-ai) (0.4.2)\n",
            "Requirement already satisfied: six>=1.5 in /usr/local/lib/python3.12/dist-packages (from python-dateutil>=2.8.2->pandas) (1.17.0)\n",
            "Requirement already satisfied: charset_normalizer<4,>=2 in /usr/local/lib/python3.12/dist-packages (from requests->hands-on-ai) (3.4.4)\n",
            "Requirement already satisfied: idna<4,>=2.5 in /usr/local/lib/python3.12/dist-packages (from requests->hands-on-ai) (3.11)\n",
            "Requirement already satisfied: urllib3<3,>=1.21.1 in /usr/local/lib/python3.12/dist-packages (from requests->hands-on-ai) (2.5.0)\n",
            "Requirement already satisfied: certifi>=2017.4.17 in /usr/local/lib/python3.12/dist-packages (from requests->hands-on-ai) (2025.10.5)\n",
            "Requirement already satisfied: click>=8.0.0 in /usr/local/lib/python3.12/dist-packages (from typer->hands-on-ai) (8.3.0)\n",
            "Requirement already satisfied: shellingham>=1.3.0 in /usr/local/lib/python3.12/dist-packages (from typer->hands-on-ai) (1.5.4)\n",
            "Requirement already satisfied: lxml>=3.1.0 in /usr/local/lib/python3.12/dist-packages (from python-docx->hands-on-ai) (5.4.0)\n",
            "Requirement already satisfied: fastcore>=1.8.1 in /usr/local/lib/python3.12/dist-packages (from python-fasthtml->hands-on-ai) (1.8.12)\n",
            "Requirement already satisfied: starlette>0.33 in /usr/local/lib/python3.12/dist-packages (from python-fasthtml->hands-on-ai) (0.48.0)\n",
            "Requirement already satisfied: oauthlib in /usr/local/lib/python3.12/dist-packages (from python-fasthtml->hands-on-ai) (3.3.1)\n",
            "Requirement already satisfied: itsdangerous in /usr/local/lib/python3.12/dist-packages (from python-fasthtml->hands-on-ai) (2.2.0)\n",
            "Requirement already satisfied: uvicorn>=0.30 in /usr/local/lib/python3.12/dist-packages (from uvicorn[standard]>=0.30->python-fasthtml->hands-on-ai) (0.37.0)\n",
            "Requirement already satisfied: httpx in /usr/local/lib/python3.12/dist-packages (from python-fasthtml->hands-on-ai) (0.28.1)\n",
            "Collecting fastlite>=0.1.1 (from python-fasthtml->hands-on-ai)\n",
            "  Downloading fastlite-0.2.1-py3-none-any.whl.metadata (12 kB)\n",
            "Requirement already satisfied: python-multipart in /usr/local/lib/python3.12/dist-packages (from python-fasthtml->hands-on-ai) (0.0.20)\n",
            "Requirement already satisfied: beautifulsoup4 in /usr/local/lib/python3.12/dist-packages (from python-fasthtml->hands-on-ai) (4.13.5)\n",
            "Requirement already satisfied: scipy>=1.6.0 in /usr/local/lib/python3.12/dist-packages (from scikit-learn->hands-on-ai) (1.16.2)\n",
            "Requirement already satisfied: joblib>=1.2.0 in /usr/local/lib/python3.12/dist-packages (from scikit-learn->hands-on-ai) (1.5.2)\n",
            "Requirement already satisfied: threadpoolctl>=3.1.0 in /usr/local/lib/python3.12/dist-packages (from scikit-learn->hands-on-ai) (3.6.0)\n",
            "Requirement already satisfied: aiohappyeyeballs>=2.5.0 in /usr/local/lib/python3.12/dist-packages (from aiohttp<4.0.0,>=3.9.1->instructor>=1.11.0->hands-on-ai) (2.6.1)\n",
            "Requirement already satisfied: aiosignal>=1.4.0 in /usr/local/lib/python3.12/dist-packages (from aiohttp<4.0.0,>=3.9.1->instructor>=1.11.0->hands-on-ai) (1.4.0)\n",
            "Requirement already satisfied: attrs>=17.3.0 in /usr/local/lib/python3.12/dist-packages (from aiohttp<4.0.0,>=3.9.1->instructor>=1.11.0->hands-on-ai) (25.4.0)\n",
            "Requirement already satisfied: frozenlist>=1.1.1 in /usr/local/lib/python3.12/dist-packages (from aiohttp<4.0.0,>=3.9.1->instructor>=1.11.0->hands-on-ai) (1.8.0)\n",
            "Requirement already satisfied: multidict<7.0,>=4.5 in /usr/local/lib/python3.12/dist-packages (from aiohttp<4.0.0,>=3.9.1->instructor>=1.11.0->hands-on-ai) (6.7.0)\n",
            "Requirement already satisfied: propcache>=0.2.0 in /usr/local/lib/python3.12/dist-packages (from aiohttp<4.0.0,>=3.9.1->instructor>=1.11.0->hands-on-ai) (0.4.1)\n",
            "Requirement already satisfied: yarl<2.0,>=1.17.0 in /usr/local/lib/python3.12/dist-packages (from aiohttp<4.0.0,>=3.9.1->instructor>=1.11.0->hands-on-ai) (1.22.0)\n",
            "Requirement already satisfied: packaging in /usr/local/lib/python3.12/dist-packages (from fastcore>=1.8.1->python-fasthtml->hands-on-ai) (25.0)\n",
            "Collecting apswutils>=0.1.0 (from fastlite>=0.1.1->python-fasthtml->hands-on-ai)\n",
            "  Downloading apswutils-0.1.0-py3-none-any.whl.metadata (7.4 kB)\n",
            "Requirement already satisfied: MarkupSafe>=2.0 in /usr/local/lib/python3.12/dist-packages (from jinja2<4.0.0,>=3.1.4->instructor>=1.11.0->hands-on-ai) (3.0.3)\n",
            "Requirement already satisfied: anyio<5,>=3.5.0 in /usr/local/lib/python3.12/dist-packages (from openai<2.0.0,>=1.70.0->instructor>=1.11.0->hands-on-ai) (4.11.0)\n",
            "Requirement already satisfied: distro<2,>=1.7.0 in /usr/local/lib/python3.12/dist-packages (from openai<2.0.0,>=1.70.0->instructor>=1.11.0->hands-on-ai) (1.9.0)\n",
            "Requirement already satisfied: sniffio in /usr/local/lib/python3.12/dist-packages (from openai<2.0.0,>=1.70.0->instructor>=1.11.0->hands-on-ai) (1.3.1)\n",
            "Requirement already satisfied: tqdm>4 in /usr/local/lib/python3.12/dist-packages (from openai<2.0.0,>=1.70.0->instructor>=1.11.0->hands-on-ai) (4.67.1)\n",
            "Requirement already satisfied: httpcore==1.* in /usr/local/lib/python3.12/dist-packages (from httpx->python-fasthtml->hands-on-ai) (1.0.9)\n",
            "Requirement already satisfied: h11>=0.16 in /usr/local/lib/python3.12/dist-packages (from httpcore==1.*->httpx->python-fasthtml->hands-on-ai) (0.16.0)\n",
            "Requirement already satisfied: markdown-it-py>=2.2.0 in /usr/local/lib/python3.12/dist-packages (from rich<15.0.0,>=13.7.0->instructor>=1.11.0->hands-on-ai) (4.0.0)\n",
            "Requirement already satisfied: pygments<3.0.0,>=2.13.0 in /usr/local/lib/python3.12/dist-packages (from rich<15.0.0,>=13.7.0->instructor>=1.11.0->hands-on-ai) (2.19.2)\n",
            "Collecting httptools>=0.6.3 (from uvicorn[standard]>=0.30->python-fasthtml->hands-on-ai)\n",
            "  Downloading httptools-0.7.1-cp312-cp312-manylinux1_x86_64.manylinux_2_28_x86_64.manylinux_2_5_x86_64.whl.metadata (3.5 kB)\n",
            "Requirement already satisfied: python-dotenv>=0.13 in /usr/local/lib/python3.12/dist-packages (from uvicorn[standard]>=0.30->python-fasthtml->hands-on-ai) (1.1.1)\n",
            "Requirement already satisfied: pyyaml>=5.1 in /usr/local/lib/python3.12/dist-packages (from uvicorn[standard]>=0.30->python-fasthtml->hands-on-ai) (6.0.3)\n",
            "Collecting uvloop>=0.15.1 (from uvicorn[standard]>=0.30->python-fasthtml->hands-on-ai)\n",
            "  Downloading uvloop-0.22.1-cp312-cp312-manylinux2014_x86_64.manylinux_2_17_x86_64.manylinux_2_28_x86_64.whl.metadata (4.9 kB)\n",
            "Collecting watchfiles>=0.13 (from uvicorn[standard]>=0.30->python-fasthtml->hands-on-ai)\n",
            "  Downloading watchfiles-1.1.1-cp312-cp312-manylinux_2_17_x86_64.manylinux2014_x86_64.whl.metadata (4.9 kB)\n",
            "Requirement already satisfied: websockets>=10.4 in /usr/local/lib/python3.12/dist-packages (from uvicorn[standard]>=0.30->python-fasthtml->hands-on-ai) (15.0.1)\n",
            "Requirement already satisfied: soupsieve>1.2 in /usr/local/lib/python3.12/dist-packages (from beautifulsoup4->python-fasthtml->hands-on-ai) (2.8)\n",
            "Collecting apsw (from apswutils>=0.1.0->fastlite>=0.1.1->python-fasthtml->hands-on-ai)\n",
            "  Downloading apsw-3.50.4.0-cp312-cp312-manylinux_2_28_x86_64.whl.metadata (3.7 kB)\n",
            "Requirement already satisfied: mdurl~=0.1 in /usr/local/lib/python3.12/dist-packages (from markdown-it-py>=2.2.0->rich<15.0.0,>=13.7.0->instructor>=1.11.0->hands-on-ai) (0.1.2)\n",
            "Downloading hands_on_ai-0.2.1-py3-none-any.whl (143 kB)\n",
            "\u001b[2K   \u001b[90m━━━━━━━━━━━━━━━━━━━━━━━━━━━━━━━━━━━━━━━━\u001b[0m \u001b[32m143.7/143.7 kB\u001b[0m \u001b[31m6.2 MB/s\u001b[0m eta \u001b[36m0:00:00\u001b[0m\n",
            "\u001b[?25hDownloading instructor-1.11.3-py3-none-any.whl (155 kB)\n",
            "\u001b[2K   \u001b[90m━━━━━━━━━━━━━━━━━━━━━━━━━━━━━━━━━━━━━━━━\u001b[0m \u001b[32m155.5/155.5 kB\u001b[0m \u001b[31m11.3 MB/s\u001b[0m eta \u001b[36m0:00:00\u001b[0m\n",
            "\u001b[?25hDownloading pymupdf-1.26.5-cp39-abi3-manylinux_2_28_x86_64.whl (24.1 MB)\n",
            "\u001b[2K   \u001b[90m━━━━━━━━━━━━━━━━━━━━━━━━━━━━━━━━━━━━━━━━\u001b[0m \u001b[32m24.1/24.1 MB\u001b[0m \u001b[31m55.7 MB/s\u001b[0m eta \u001b[36m0:00:00\u001b[0m\n",
            "\u001b[?25hDownloading python_docx-1.2.0-py3-none-any.whl (252 kB)\n",
            "\u001b[2K   \u001b[90m━━━━━━━━━━━━━━━━━━━━━━━━━━━━━━━━━━━━━━━━\u001b[0m \u001b[32m253.0/253.0 kB\u001b[0m \u001b[31m14.8 MB/s\u001b[0m eta \u001b[36m0:00:00\u001b[0m\n",
            "\u001b[?25hDownloading python_fasthtml-0.12.29-py3-none-any.whl (71 kB)\n",
            "\u001b[2K   \u001b[90m━━━━━━━━━━━━━━━━━━━━━━━━━━━━━━━━━━━━━━━━\u001b[0m \u001b[32m71.0/71.0 kB\u001b[0m \u001b[31m5.2 MB/s\u001b[0m eta \u001b[36m0:00:00\u001b[0m\n",
            "\u001b[?25hDownloading diskcache-5.6.3-py3-none-any.whl (45 kB)\n",
            "\u001b[2K   \u001b[90m━━━━━━━━━━━━━━━━━━━━━━━━━━━━━━━━━━━━━━━━\u001b[0m \u001b[32m45.5/45.5 kB\u001b[0m \u001b[31m2.8 MB/s\u001b[0m eta \u001b[36m0:00:00\u001b[0m\n",
            "\u001b[?25hDownloading fastlite-0.2.1-py3-none-any.whl (17 kB)\n",
            "Downloading jiter-0.10.0-cp312-cp312-manylinux_2_17_x86_64.manylinux2014_x86_64.whl (352 kB)\n",
            "\u001b[2K   \u001b[90m━━━━━━━━━━━━━━━━━━━━━━━━━━━━━━━━━━━━━━━━\u001b[0m \u001b[32m352.0/352.0 kB\u001b[0m \u001b[31m16.1 MB/s\u001b[0m eta \u001b[36m0:00:00\u001b[0m\n",
            "\u001b[?25hDownloading apswutils-0.1.0-py3-none-any.whl (80 kB)\n",
            "\u001b[2K   \u001b[90m━━━━━━━━━━━━━━━━━━━━━━━━━━━━━━━━━━━━━━━━\u001b[0m \u001b[32m80.5/80.5 kB\u001b[0m \u001b[31m3.5 MB/s\u001b[0m eta \u001b[36m0:00:00\u001b[0m\n",
            "\u001b[?25hDownloading httptools-0.7.1-cp312-cp312-manylinux1_x86_64.manylinux_2_28_x86_64.manylinux_2_5_x86_64.whl (517 kB)\n",
            "\u001b[2K   \u001b[90m━━━━━━━━━━━━━━━━━━━━━━━━━━━━━━━━━━━━━━━━\u001b[0m \u001b[32m517.7/517.7 kB\u001b[0m \u001b[31m21.8 MB/s\u001b[0m eta \u001b[36m0:00:00\u001b[0m\n",
            "\u001b[?25hDownloading uvloop-0.22.1-cp312-cp312-manylinux2014_x86_64.manylinux_2_17_x86_64.manylinux_2_28_x86_64.whl (4.4 MB)\n",
            "\u001b[2K   \u001b[90m━━━━━━━━━━━━━━━━━━━━━━━━━━━━━━━━━━━━━━━━\u001b[0m \u001b[32m4.4/4.4 MB\u001b[0m \u001b[31m28.5 MB/s\u001b[0m eta \u001b[36m0:00:00\u001b[0m\n",
            "\u001b[?25hDownloading watchfiles-1.1.1-cp312-cp312-manylinux_2_17_x86_64.manylinux2014_x86_64.whl (456 kB)\n",
            "\u001b[2K   \u001b[90m━━━━━━━━━━━━━━━━━━━━━━━━━━━━━━━━━━━━━━━━\u001b[0m \u001b[32m456.8/456.8 kB\u001b[0m \u001b[31m20.2 MB/s\u001b[0m eta \u001b[36m0:00:00\u001b[0m\n",
            "\u001b[?25hDownloading apsw-3.50.4.0-cp312-cp312-manylinux_2_28_x86_64.whl (7.1 MB)\n",
            "\u001b[2K   \u001b[90m━━━━━━━━━━━━━━━━━━━━━━━━━━━━━━━━━━━━━━━━\u001b[0m \u001b[32m7.1/7.1 MB\u001b[0m \u001b[31m14.2 MB/s\u001b[0m eta \u001b[36m0:00:00\u001b[0m\n",
            "\u001b[?25hInstalling collected packages: uvloop, python-docx, pymupdf, jiter, httptools, diskcache, apsw, watchfiles, apswutils, fastlite, python-fasthtml, instructor, hands-on-ai\n",
            "  Attempting uninstall: jiter\n",
            "    Found existing installation: jiter 0.11.0\n",
            "    Uninstalling jiter-0.11.0:\n",
            "      Successfully uninstalled jiter-0.11.0\n",
            "Successfully installed apsw-3.50.4.0 apswutils-0.1.0 diskcache-5.6.3 fastlite-0.2.1 hands-on-ai-0.2.1 httptools-0.7.1 instructor-1.11.3 jiter-0.10.0 pymupdf-1.26.5 python-docx-1.2.0 python-fasthtml-0.12.29 uvloop-0.22.1 watchfiles-1.1.1\n"
          ]
        }
      ]
    },
    {
      "cell_type": "markdown",
      "source": [
        "Now lets setup environment\n",
        "\n",
        "The next few cells prepares your computer to talk to an AI service.\n",
        "\n",
        "It stores the server address, model name, and your secret key as environment variables.\n",
        "\n",
        "Other programs (or later Python code) can read those variables to connect to the AI—without hard-coding secrets into the source file.\n",
        "\n",
        "That's it! It's mainly about safe configuration: setting values once, keeping your API key private, and letting other code reuse those settings."
      ],
      "metadata": {
        "id": "oLgbWWlqEVKs"
      }
    },
    {
      "cell_type": "code",
      "source": [
        "import os\n",
        "from getpass import getpass"
      ],
      "metadata": {
        "id": "x-R0Sgr6Egrq"
      },
      "execution_count": 2,
      "outputs": []
    },
    {
      "cell_type": "markdown",
      "source": [
        "> os is a built-in Python module that lets you interact with your computer’s operating system.  In this script, it’s used to set environment variables—special settings your program (and other programs) can read.\n",
        "\n",
        "> getpass is a function that asks the user to type something (like a password) without showing it on the screen, so it stays secret."
      ],
      "metadata": {
        "id": "VevaDnkuEvI7"
      }
    },
    {
      "cell_type": "code",
      "source": [
        "# Configure hands-on-ai server connection\n",
        "os.environ['HANDS_ON_AI_SERVER'] = 'https://ollama.serveur.au'\n",
        "os.environ['HANDS_ON_AI_MODEL'] = 'llama3.2'"
      ],
      "metadata": {
        "id": "gGf5_Ug8EwpT"
      },
      "execution_count": 4,
      "outputs": []
    },
    {
      "cell_type": "markdown",
      "source": [
        "os.environ is like a dictionary of key-value pairs that represent environment variables.\n",
        "\n",
        "Here we create three variables:\n",
        "\n",
        "* HANDS_ON_AI_SERVER: The web address of the AI server we’ll connect to.\n",
        "* HANDS_ON_AI_MODEL: The specific AI model name we want to use (granite3.2).\n",
        "* the third is discussed later\n",
        "\n",
        "These settings can be read later by other Python code or by external tools—so you don’t have to hard-code them everywhere."
      ],
      "metadata": {
        "id": "6298qBfAFFec"
      }
    },
    {
      "cell_type": "code",
      "source": [
        "os.environ['HANDS_ON_AI_API_KEY'] = getpass('Enter your API key: ')"
      ],
      "metadata": {
        "id": "daIwptApFPaZ",
        "colab": {
          "base_uri": "https://localhost:8080/"
        },
        "outputId": "6778a3b0-2778-41ab-c1ca-8e136738cc7a"
      },
      "execution_count": 5,
      "outputs": [
        {
          "name": "stdout",
          "output_type": "stream",
          "text": [
            "Enter your API key: ··········\n"
          ]
        }
      ]
    },
    {
      "cell_type": "markdown",
      "source": [
        "The cell prompts you with the message “Enter your API key: ”.\n",
        "\n",
        "The api key needed:   **isys2001-assignment-key**\n",
        "\n",
        "While you type, nothing appears on the screen (for security).\n",
        "\n",
        "Whatever you type is saved as the environment variable HANDS_ON_AI_API_KEY.\n",
        "\n",
        "> API key = a private password-like token that proves you’re allowed to use the AI service."
      ],
      "metadata": {
        "id": "TxeW3qNoFcqE"
      }
    },
    {
      "cell_type": "code",
      "source": [
        "print(\"🔑 Hands-on-AI configured successfully!\")"
      ],
      "metadata": {
        "id": "WkusVpQNF3hC",
        "colab": {
          "base_uri": "https://localhost:8080/"
        },
        "outputId": "301bbc87-b2a3-4c9f-e97b-e11363d03635"
      },
      "execution_count": 6,
      "outputs": [
        {
          "output_type": "stream",
          "name": "stdout",
          "text": [
            "🔑 Hands-on-AI configured successfully!\n"
          ]
        }
      ]
    },
    {
      "cell_type": "markdown",
      "source": [
        "Finally, a simple confirmation message shows that the setup is done.\n",
        "\n",
        "Now lets test the package.\n"
      ],
      "metadata": {
        "id": "2PQITIMHF4CJ"
      }
    },
    {
      "cell_type": "code",
      "source": [
        "from hands_on_ai.chat import pirate_bot\n",
        "print(pirate_bot(\"What is photosynthesis?\"))"
      ],
      "metadata": {
        "id": "6zn9KEi2JCeg",
        "colab": {
          "base_uri": "https://localhost:8080/"
        },
        "outputId": "4c5169a4-0848-4ac9-9e8e-bc13627a0a5b"
      },
      "execution_count": 7,
      "outputs": [
        {
          "output_type": "stream",
          "name": "stdout",
          "text": [
            "💾 Spinning up the AI core for 'llama3.2'...\n",
            "Arrr, ye landlubber! Yer askin' about photosynthesis, eh? Alright then, listen close and I'll spin ye the tale o' how plants make their own grog... er, food!\n",
            "\n",
            "Ye see, photosynthesis be the magical way plants turn sunlight into the feast fit fer a swashbucklin' king (or queen, arrr)! It's like makin' biscuits from scratch without havin' to bother with flour, sugar, or other scurvy ingredients.\n",
            "\n",
            "Here be the basics: plants take in sunbeams through their leaves (yer average human would call 'em stomata) and use that sweet, sunny energy to munch on water vapor from the air. That's where CO2 comes in – a fancy word fer \"excess carbon breath\" in yer scurvy dog language.\n",
            "\n",
            "As ye might expect, plants convert sunlight into a type o' sugar they can chomp upon... and more importantly, use fer growin', growin' strong. While sucklin' up that water vapor, they also take a little nip from light energy to fuel the booty!\n",
            "\n",
            "Last but not least, there be some byproduct: pure O2! That's right, matey – plants give oxygen back to us scurvy dogs breathin' air! A wee bit o' thanks for all yer help with food and whatnot.\n",
            "\n",
            "Now don't go thinkin' this all happens while ye're swabbin' the decks or whatever other bilge life ye scurvy curs lead. It's more like... well, ye know when a plant makes a sunbeam sparkle? That be photosynthesis! And it's not just for plants – though they might have us scurvy dogs to share it with.\n",
            "\n",
            "Now I trust that be give ye enough info to navigate the seven seas o' them there plant sciences. Just don't ferget, savvy?\n"
          ]
        }
      ]
    },
    {
      "cell_type": "markdown",
      "metadata": {
        "id": "qs6vVEtGDnuB"
      },
      "source": [
        "## Step 1: Ask AI to Help Design the Chatbot\n",
        "\n",
        "Let's start by asking Colab's AI to help us think through the design. thry the following prompt.\n",
        "'''\n",
        "Help me design a simple financial advisor chatbot that:\n",
        "1. Takes user questions about personal finance\n",
        "2. Gives educational advice (not professional financial advice)\n",
        "3. Can analyze transaction data from a CSV file\n",
        "4. Has a personality as a \"wise financial sage\"\n",
        "\n",
        "What should the basic structure look like in Python?\n",
        "```"
      ]
    },
    {
      "cell_type": "code",
      "source": [
        "from hands_on_ai.chat import get_response\n",
        "import os\n",
        "print(get_response(\"Help me design a simple financial advisor chatbot that 1. Takes user questions about personal finance 2. Gives educational advice (not professional financial advice) 3. Can analyze transaction data from a CSV file 4. Has a personality as a 5. wise financial sage What should the basic structure look like in Python?\"))"
      ],
      "metadata": {
        "colab": {
          "base_uri": "https://localhost:8080/"
        },
        "id": "8qclf7osSMhX",
        "outputId": "dedc429e-aca1-4eb2-cc92-9b71ad5bd2a4"
      },
      "execution_count": 8,
      "outputs": [
        {
          "output_type": "stream",
          "name": "stdout",
          "text": [
            "Designing a simple financial advisor chatbot can be an excellent project. Here's a suggested basic structure for your Python chatbot:\n",
            "\n",
            "**Requirements:**\n",
            "\n",
            "1. User input and processing\n",
            "2. Educational advice generation\n",
            "3. Transaction data analysis from a CSV file\n",
            "4. Chat interface (voice or text-based)\n",
            "\n",
            "For this example, we'll focus on a text-based chat interface using natural language processing (NLP) techniques.\n",
            "\n",
            "**Basic Structure:**\n",
            "```python\n",
            "import pandas as pd\n",
            "import numpy as np\n",
            "from nltk.tokenize import word_tokenize\n",
            "from collections import defaultdict\n",
            "\n",
            "class FinancialAdvisorChatbot:\n",
            "    def __init__(self):\n",
            "        self.transactions = {}  # Load and store transaction data from CSV file\n",
            "        self.educational_content = {\n",
            "            \"budgeting\": [\"Create a budget that works for you\", \"Track your income and expenses\"],\n",
            "            \"savings\": [\"Set up automatic transfers to your savings account\", \"Consider opening a high-yield savings account\"],\n",
            "            # Add more topics as needed\n",
            "        }\n",
            "\n",
            "    def user_input(self, question):\n",
            "        \"\"\"Process user input and generate educational advice\"\"\"\n",
            "        tokens = word_tokenize(question.lower())\n",
            "        top_keywords = self.nlp(tokens)\n",
            "        if top_keywords:\n",
            "            return self.educational_content[top_keywords[0]]\n",
            "\n",
            "    def analyze_transactions(self):\n",
            "        \"\"\"Analyze transaction data from CSV file (simple example, actual implementation may require more complexity)\"\"\"\n",
            "        # Load transactions CSV\n",
            "        df = pd.read_csv(\"transactions.csv\")\n",
            "        # Simple analysis: count unique categories\n",
            "        category_counts = df[\"Category\"].value_counts()\n",
            "        return category_counts\n",
            "\n",
            "    def nlp(self, tokens):\n",
            "        \"\"\"Simple NLP pipeline (tokenize and return top keyword)\"\"\"\n",
            "        keyword_count = defaultdict(int)\n",
            "        for token in tokens:\n",
            "            if not np.isnan(token):  # Ignore NaN values\n",
            "                keyword_count[token] += 1\n",
            "        return keyword_count.most_common(2)[0][0]\n",
            "\n",
            "    def run(self):\n",
            "        print(\"Welcome to the Financial Advisor Chatbot!\")\n",
            "        while True:\n",
            "            question = input(\"What's on your mind? (type 'quit' to exit): \")\n",
            "            if question.lower() == \"quit\":\n",
            "                break\n",
            "            response = self.user_input(question)\n",
            "            if isinstance(response, list):\n",
            "                print(\"\\n\".join(response))\n",
            "            elif isinstance(response, pd.Series):  # Analyzed transactions data\n",
            "                print(\"Transactions analysis:\")\n",
            "                for category, count in response.item():\n",
            "                    print(f\"{category}: {count} transactions\")\n",
            "\n",
            "if __name__ == \"__main__\":\n",
            "    chatbot = FinancialAdvisorChatbot()\n",
            "    chatbot.run()\n",
            "```\n",
            "**Notes:**\n",
            "\n",
            "1. This is a basic example and does not cover all aspects of NLP or data analysis.\n",
            "2. The `nlp` method uses a simple frequency-based approach to find the top keyword; more complex NLP techniques (e.g., sentiment analysis, part-of-speech tagging) may be necessary for better results.\n",
            "3. For analyzing transactions data, this example provides a simplified version that counts unique categories (note: actual implementation would need to handle multiple fields, sub-field calculations, and possibly integrate additional services).\n",
            "\n",
            "This code should provide a solid foundation for your chatbot project. However, keep in mind that the financial advisor nature of your chatbot emphasizes the importance of accurate analysis of user questions and providing relevant informative responses to users.\n",
            "\n",
            "Let me know if you need further implementation guidance or NLP techniques explanations!\n"
          ]
        }
      ]
    },
    {
      "cell_type": "markdown",
      "metadata": {
        "id": "Mel9Nt4ODnuC"
      },
      "source": [
        "## Step 2: Create the Basic Chatbot\n",
        "\n",
        "Based on AI suggestions, let's build the core chatbot:"
      ]
    },
    {
      "cell_type": "code",
      "metadata": {
        "id": "gToIBUbdDnuD",
        "colab": {
          "base_uri": "https://localhost:8080/"
        },
        "outputId": "31ca7464-e39f-4833-abf5-8faddf91fa31"
      },
      "source": [
        "from hands_on_ai.chat import get_response\n",
        "import os\n",
        "\n",
        "def financial_sage(question: str):\n",
        "    \"\"\"\n",
        "    A personality bot that provides educational financial guidance.\n",
        "    \"\"\"\n",
        "    personality = \"\"\"\n",
        "    You are a wise Financial Sage with years of experience in personal finance.\n",
        "    You give educational, general advice about money management, investing, and budgeting.\n",
        "    You speak in a friendly but knowledgeable tone.\n",
        "    Always remind users that this is educational content, not professional financial advice.\n",
        "    \"\"\"\n",
        "\n",
        "    prompt = personality + question\n",
        "    # The get_response function sends the prompt and system message to the LLM\n",
        "    return get_response(prompt=question)\n",
        "\n",
        "# Test the financial sage bot\n",
        "test_question = \"Should I invest in stocks or save my money in a bank account?\"\n",
        "advice = financial_sage(test_question)\n",
        "\n",
        "print(\"Financial Sage says:\")\n",
        "print(advice)"
      ],
      "execution_count": 9,
      "outputs": [
        {
          "output_type": "stream",
          "name": "stdout",
          "text": [
            "Financial Sage says:\n",
            "The answer depends on your individual financial goals, risk tolerance, and time horizon. Here's a balanced view to help you decide:\n",
            "\n",
            "**Pros of investing in stocks:**\n",
            "\n",
            "1. **Potential for long-term growth**: Stocks have historically provided higher returns over the long term compared to savings accounts.\n",
            "2. **Liquidity**: You can typically sell your stocks quickly if needed.\n",
            "3. **Diversification**: Investing in stocks allows you to spread risk across various industries and asset classes.\n",
            "\n",
            "**Cons of investing in stocks:**\n",
            "\n",
            "1. **Risk**: Stock market fluctuations can lead to losses, especially in the short term.\n",
            "2. **Volatility**: Prices may drop rapidly, affecting your investment value.\n",
            "3. **Requires research and effort**: To get started, you'll need to understand the stock market and research individual companies.\n",
            "\n",
            "**Pros of saving in a bank account:**\n",
            "\n",
            "1. **Liquidity**: You can easily access your money when needed.\n",
            "2. **Low risk**: Bank accounts are generally considered very low-risk investments.\n",
            "3. **Guaranteed returns**: Typically, savings accounts offer fixed interest rates or APYs.\n",
            "\n",
            "**Cons of saving in a bank account:**\n",
            "\n",
            "1. **Inflation**: The purchasing power of your money may erode over time due to inflation.\n",
            "2. **Limited growth**: Savings accounts often offer low or no interest rates, limiting potential returns.\n",
            "3. **Opportunity cost**: Tying your money to a savings account means missing out on potential investment opportunities.\n",
            "\n",
            "**Who should prioritize investing in stocks:**\n",
            "\n",
            "1. People with a long-term financial plan (5+ years)\n",
            "2. Those who can afford to take on some level of risk\n",
            "3. Individuals seeking higher returns to achieve specific goals, such as retirement or a down payment on a house\n",
            "\n",
            "**Who may prefer saving in a bank account:**\n",
            "\n",
            "1. Short-term savers (less than 1 year)\n",
            "2. Those with low-to-medium risk tolerance\n",
            "3. People who need quick access to their money (e.g., emergencies)\n",
            "\n",
            "Consider the following steps:\n",
            "\n",
            "1. Assess your financial goals and time horizon.\n",
            "2. Evaluate your risk tolerance.\n",
            "3. Consider your current savings and investment situation.\n",
            "4. Research and understand both stocks and bank accounts before making a decision.\n",
            "\n",
            "You can also consider a balanced approach, where you allocate a portion of your money to save in a bank account and invest in stocks or other assets that align with your goals.\n",
            "\n",
            "Which one are you leaning towards? Or would you like me to elaborate on any specific aspect of this decision?\n"
          ]
        }
      ]
    },
    {
      "cell_type": "markdown",
      "metadata": {
        "id": "0uyTCSdMDnuD"
      },
      "source": [
        "## Step 3: Add Transaction Analysis\n",
        "\n",
        "Let's create some sample transaction data and ask AI to help us analyze it:"
      ]
    },
    {
      "cell_type": "code",
      "metadata": {
        "id": "WllTL6QkDnuE",
        "colab": {
          "base_uri": "https://localhost:8080/"
        },
        "outputId": "97ecfe22-c2b3-4aad-b492-14b172e41569"
      },
      "source": [
        "import pandas as pd\n",
        "\n",
        "# Create sample transaction data\n",
        "sample_transactions = {\n",
        "    'Date': ['2024-01-01', '2024-01-02', '2024-01-03', '2024-01-05', '2024-01-07'],\n",
        "    'Description': ['Salary', 'Grocery Store', 'Coffee Shop', 'Gas Station', 'Restaurant'],\n",
        "    'Category': ['Income', 'Food', 'Food', 'Transportation', 'Food'],\n",
        "    'Amount': [3000, -85.50, -4.50, -45.00, -32.75]\n",
        "}\n",
        "\n",
        "# Create DataFrame and save as CSV\n",
        "df = pd.DataFrame(sample_transactions)\n",
        "df.to_csv('transactions.csv', index=False)\n",
        "\n",
        "print(\"Sample transactions created:\")\n",
        "print(df)"
      ],
      "execution_count": 11,
      "outputs": [
        {
          "output_type": "stream",
          "name": "stdout",
          "text": [
            "Sample transactions created:\n",
            "         Date    Description        Category   Amount\n",
            "0  2024-01-01         Salary          Income  3000.00\n",
            "1  2024-01-02  Grocery Store            Food   -85.50\n",
            "2  2024-01-03    Coffee Shop            Food    -4.50\n",
            "3  2024-01-05    Gas Station  Transportation   -45.00\n",
            "4  2024-01-07     Restaurant            Food   -32.75\n"
          ]
        }
      ]
    },
    {
      "cell_type": "markdown",
      "metadata": {
        "id": "eCNx8sYEDnuF"
      },
      "source": [
        "Now let's ask AI to help us build transaction analysis.  Try this prompt:\n",
        "\n",
        "```\n",
        "I have transaction data with columns: Date, Description, Category, Amount\n",
        "Help me write a Python function that:\n",
        "1. Loads the CSV with pandas\n",
        "2. Calculates basic financial insights (income, expenses, savings rate)\n",
        "3. Identifies spending patterns\n",
        "4. Formats this information for an AI chatbot to discuss\n",
        "\n",
        "Show me the code structure.\n",
        "```\n",
        "\n",
        "> Can you suggest improvement to the prompt?"
      ]
    },
    {
      "cell_type": "markdown",
      "metadata": {
        "id": "_THSKyy7DnuH"
      },
      "source": [
        "## Step 4: Implement Transaction Analysis\n",
        "\n",
        "Based on AI suggestions, let's add transaction analysis to our sage:"
      ]
    },
    {
      "cell_type": "code",
      "metadata": {
        "id": "osSook-QDnuH",
        "colab": {
          "base_uri": "https://localhost:8080/"
        },
        "outputId": "85d29251-d1ad-4ee9-a001-1be3390cdfe5"
      },
      "source": [
        "def analyse_transactions(csv_file):\n",
        "    \"\"\"Analyze user's transaction data\"\"\"\n",
        "    # Load the data\n",
        "    df = pd.read_csv(csv_file)\n",
        "\n",
        "    # Basic calculations\n",
        "    total_income = df[df['Amount'] > 0]['Amount'].sum()\n",
        "    total_expenses = abs(df[df['Amount'] < 0]['Amount'].sum())\n",
        "    net_savings = total_income - total_expenses\n",
        "    savings_rate = (net_savings / total_income * 100) if total_income > 0 else 0\n",
        "\n",
        "    # Spending by category\n",
        "    expense_by_category = df[df['Amount'] < 0].groupby('Category')['Amount'].sum().abs()\n",
        "\n",
        "    # Create summary for AI analysis\n",
        "    summary = f\"\"\"\n",
        "    Financial Summary:\n",
        "    - Total Income: ${total_income:.2f}\n",
        "    - Total Expenses: ${total_expenses:.2f}\n",
        "    - Net Savings: ${net_savings:.2f}\n",
        "    - Savings Rate: {savings_rate:.1f}%\n",
        "\n",
        "    Spending by Category:\n",
        "    {expense_by_category.to_string()}\n",
        "    \"\"\"\n",
        "\n",
        "    return summary\n",
        "\n",
        "# Test transaction analysis\n",
        "transaction_summary = analyse_transactions('transactions.csv')\n",
        "\n",
        "# Get financial advice\n",
        "advice = financial_sage(f\"Based on my spending, how can I save more money?  {transaction_summary}\")\n",
        "print(advice)"
      ],
      "execution_count": 12,
      "outputs": [
        {
          "output_type": "stream",
          "name": "stdout",
          "text": [
            "Congratulations on your impressive savings rate! Based on your financial summary, it seems like you're already doing a great job of saving money.\n",
            "\n",
            "However, let's break down your spending categories to identify areas where you might be able to optimize:\n",
            "\n",
            "1. **Food**: $122.75 - This is approximately 4.05% of your total income. While food expenses are essential, there may be opportunities to reduce waste or cook at home more often. Consider meal planning, batch cooking, and using leftovers to stretch your budget.\n",
            "2. **Transportation**: $45.00 - This accounts for about 1.5% of your total income. To minimize transportation costs, you could:\n",
            "\t* Consider carpooling, public transportation, or biking for short trips.\n",
            "\t* Maintain your vehicle regularly to avoid costly repairs.\n",
            "\t* Explore alternative modes of transportation, like ride-sharing services.\n",
            "\n",
            "To further optimize your savings, consider the following general tips:\n",
            "\n",
            "1. **Budget in categories**: Divide your expenses into areas like food, transportation, housing, entertainment, and so on. This will help you identify where you're spending the most and allocate funds accordingly.\n",
            "2. **Track expenses**: Monitor your daily purchases and compare them to your budget. You can use a spreadsheet, mobile app (like Mint or Personal Capital), or even just a notebook to record your transactions.\n",
            "3. **Create an emergency fund**: Aim for 3-6 months' worth of living expenses in a readily accessible savings account. This will help you cover unexpected costs and avoid going into debt.\n",
            "4. **Automate savings**: Set up automatic transfers from your checking account to your savings or investment accounts. This way, you'll ensure that you're consistently setting aside money without having to think about it.\n",
            "\n",
            "Remember, small changes can add up over time! Consider implementing these suggestions and adjusting your spending habits accordingly.\n",
            "\n",
            "Now, would you like some help with creating a personalized budget plan or exploring other savings strategies?\n"
          ]
        }
      ]
    },
    {
      "cell_type": "markdown",
      "metadata": {
        "id": "W0NazlsVDnuI"
      },
      "source": [
        "## Step 5: Combine Everything - Ask Questions About Your Data\n",
        "\n",
        "Now let's ask the sage to give advice based on the transaction data:"
      ]
    },
    {
      "cell_type": "code",
      "metadata": {
        "id": "CS3JqdncDnuI",
        "colab": {
          "base_uri": "https://localhost:8080/"
        },
        "outputId": "eb03744a-7c0c-43a2-be9a-df46ae8c878d"
      },
      "source": [
        "def get_advice(csv_file, question):\n",
        "    \"\"\"Get advice based on transaction data and user question\"\"\"\n",
        "\n",
        "    # Get transaction analysis\n",
        "    analysis = analyse_transactions(csv_file)\n",
        "\n",
        "    # Combine with user question\n",
        "    full_prompt = f\"\"\"\n",
        "\n",
        "    Here's the user's financial data:\n",
        "    {analysis}\n",
        "\n",
        "    User question: {question}\n",
        "\n",
        "    Based on this financial data, provide personalized educational advice.\n",
        "    \"\"\"\n",
        "\n",
        "    advice = financial_sage(full_prompt)\n",
        "    return advice\n",
        "\n",
        "\n",
        "# Test data-based advice\n",
        "data_question = \"Based on my spending, how can I save more money?\"\n",
        "data_advice = get_advice('transactions.csv', data_question)\n",
        "\n",
        "print(\"Data-Based Financial Advice:\")\n",
        "print(data_advice)"
      ],
      "execution_count": 13,
      "outputs": [
        {
          "output_type": "stream",
          "name": "stdout",
          "text": [
            "Data-Based Financial Advice:\n",
            "Based on the user's financial data, here are some personalized educational advice and suggestions to help them save more money:\n",
            "\n",
            "1. **Identify areas for reduction**: The user has spent $122.75 on food and $45.00 on transportation, which accounts for a significant portion of their total expenses. Encouraging them to review their grocery shopping habits, meal planning, and public transportation options can lead to substantial savings.\n",
            "\n",
            "Consider cutting back on:\n",
            "\t* Eating out or ordering takeout\n",
            "\t* Impulse purchases at restaurants, cafes, or convenience stores\n",
            "\t* Infrequent use of public transportation\n",
            "\n",
            "2. **Budgeting is key**: Although the user has a high savings rate (94.4%), there might still be opportunities for further optimization.\n",
            "\n",
            "Encourage them to:\n",
            "\t* Review their income and expenses regularly\n",
            "\t* Allocate specific funds for non-essential expenses, such as entertainment or hobbies\n",
            "\t* Consider automating bill payments and savings transfers\n",
            "\n",
            "3. **Maximize cashback and rewards**: Many credit cards offer cashback or rewards on specific categories (e.g., groceries, gas stations). Suggest exploring these options to earn additional rewards.\n",
            "\n",
            "4. **Consider a savings challenge**: Implementing a short-term savings challenge, like saving $50 each week for 10 weeks, can motivate the user to increase their savings momentum.\n",
            "\n",
            "5. **Track expenses and stay accountable**: Utilizing budgeting tools or tracking expenses through mobile apps (e.g., Mint, Personal Capital) helps users understand spending patterns and make informed financial decisions.\n",
            "\n",
            "6. **Prioritize needs over wants**: Ensure that essential expenses are covered before allocating funds towards discretionary spending items like entertainment or luxury purchases.\n",
            "\n",
            "By following these tips, the user can adjust their spending habits and optimize savings. Emphasize the importance of continuous monitoring, patience, and persistence in achieving their savings goals!\n"
          ]
        }
      ]
    },
    {
      "cell_type": "markdown",
      "metadata": {
        "id": "X-pl14UADnuI"
      },
      "source": [
        "## Step 6: Create Interactive Chat Function\n",
        "\n",
        "Let's make it easy to chat with our financial sage.  This function creates a simple “chat” with a friendly money expert. When you run it, you can type questions about your finances, ask it to analyse your spending, or type quit to stop. If you ask for an analysis, it reads your transaction file, shows a summary of where your money goes, and can give extra tips if you ask follow-up questions. For anything else, it just gives general financial advice—like a basic chatbot focused on money matters."
      ]
    },
    {
      "cell_type": "code",
      "metadata": {
        "id": "cJlQRyTdDnuI"
      },
      "source": [
        "import os\n",
        "import pandas as pd\n",
        "\n",
        "def chat_with_sage():\n",
        "    \"\"\"Interactive chat with the financial sage\"\"\"\n",
        "\n",
        "    print(\"💰 Welcome to the Financial Sage! 💰\")\n",
        "    print(\"Ask me any financial question, or type 'analyse' to look at your transactions.\")\n",
        "    print(\"Type 'quit' to exit.\\n\")\n",
        "    while True:\n",
        "        user_input = input(\"You: \")\n",
        "\n",
        "        if user_input.lower() == 'quit':\n",
        "            print(\"Sage: May your finances prosper! Goodbye!\")\n",
        "            break\n",
        "        elif user_input.lower() == 'analyse':\n",
        "            # Analyze transaction data\n",
        "            analysis = analyse_transactions('transactions.csv')\n",
        "            print(f\"Sage: Here's your financial analysis:\\n{analysis}\")\n",
        "\n",
        "            follow_up = input(\"\\nAny questions about your spending? \")\n",
        "            if follow_up.strip():\n",
        "                advice = get_data_advice('transactions.csv', follow_up)\n",
        "                print(f\"Sage: {advice}\")\n",
        "        else:\n",
        "            # Regular financial advice\n",
        "            advice = get_advice('transactions.csv', user_input)\n",
        "            print(f\"Sage: {advice}\")\n",
        "\n",
        "        print()  # Add spacing"
      ],
      "execution_count": 21,
      "outputs": []
    },
    {
      "cell_type": "markdown",
      "source": [
        "**Lets start the chatbot**\n",
        "\n",
        "> The chat_with_sage() function starts an interactive text-based conversation with a “Financial Sage” assistant. It greets the user and then repeatedly waits for input until the user types quit, which ends the chat. If the user types analyse, it calls a helper function analyse_transactions('transactions.csv') to summarise spending data from a CSV file and displays the results. After that, it offers a follow-up question prompt; if the user enters something, it calls get_data_advice('transactions.csv', follow_up) to give personalised insights based on the transaction data. For any other message, it assumes a normal financial question and calls get_advice(user_input) to generate general advice. After each response it prints a blank line for neat spacing, effectively creating a simple loop that handles quitting, transaction analysis, and everyday finance queries."
      ],
      "metadata": {
        "id": "pyzJP4qSQR10"
      }
    },
    {
      "cell_type": "code",
      "source": [
        "chat_with_sage()"
      ],
      "metadata": {
        "id": "VOJB34uGPrrK",
        "colab": {
          "base_uri": "https://localhost:8080/"
        },
        "outputId": "63e9f151-6ace-41d1-fa19-9ba987cced1f"
      },
      "execution_count": 20,
      "outputs": [
        {
          "output_type": "stream",
          "name": "stdout",
          "text": [
            "💰 Welcome to the Financial Sage! 💰\n",
            "Ask me any financial question, or type 'analyse' to look at your transactions.\n",
            "Type 'quit' to exit.\n",
            "\n",
            "You: hi\n",
            "Sage: Hello! It's great to chat with you about your finances.\n",
            "\n",
            "First of all, congratulations on achieving a savings rate of 94.4%! That's impressive and shows that you're prioritizing your savings goals.\n",
            "\n",
            "Now, let's take a closer look at your financial data. You have a total income of $3000.00 and your net savings are $2832.25, which is a significant amount. However, I notice that your expenses are relatively low, with only $167.75 in total expenses per month.\n",
            "\n",
            "This might be an opportunity to explore ways to accelerate your savings rate without making drastic changes to your lifestyle. Since you mentioned spending by category, it would be great to discuss ways to allocate those transportation costs more efficiently.\n",
            "\n",
            "You used $45.00 for transportation this month. Have you considered carpooling, public transport, biking, or even walking? Not only can these options reduce your fuel consumption and lower your transportation costs but also improve your overall health and well-being!\n",
            "\n",
            "Additionally, I'd like to highlight the importance of building an emergency fund. While you've made great progress with your savings rate, it's essential to have a safety net in place for unexpected expenses.\n",
            "\n",
            "To take your financial planning to the next level, I recommend considering the following:\n",
            "\n",
            "* Create a budget that accounts for all your income and expenses.\n",
            "* Allocate a portion of your income towards retirement savings, such as a 401(k) or IRA.\n",
            "* Review and adjust your spending habits to optimize your transportation costs.\n",
            "* Develop an emergency fund by setting aside 3-6 months' worth of living expenses.\n",
            "\n",
            "Remember, taking control of your finances is not about depriving yourself but rather making informed choices that align with your long-term goals. You're doing great, and I'm here to support you!\n",
            "\n",
            "How do these suggestions sound?\n",
            "\n",
            "You: quit\n",
            "Sage: May your finances prosper! Goodbye!\n"
          ]
        }
      ]
    },
    {
      "cell_type": "markdown",
      "metadata": {
        "id": "L-x86Y3hDnuJ"
      },
      "source": [
        "## Step 7: Test with Different Questions\n",
        "\n",
        "Let's test our sage with various financial questions:"
      ]
    },
    {
      "cell_type": "code",
      "metadata": {
        "id": "RSWyRpMHDnuJ",
        "colab": {
          "base_uri": "https://localhost:8080/"
        },
        "outputId": "0e1d2658-acff-4366-bb7a-4cf823f7062c"
      },
      "source": [
        "# Test different types of questions\n",
        "test_questions = [\n",
        "    \"I'm 22 and just started working. How should I begin investing?\",\n",
        "    \"What's the difference between stocks and bonds?\",\n",
        "    \"How much should I have in an emergency fund?\",\n",
        "    \"Is it better to pay off debt or invest?\",\n",
        "    \"Based on my spending, should I be worried about anything?\"\n",
        "]\n",
        "\n",
        "print(\"Testing Financial Sage with various questions:\")\n",
        "print(\"=\" * 50)\n",
        "\n",
        "for question in test_questions:\n",
        "    print(f\"\\nQuestion: {question}\")\n",
        "\n",
        "    if \"based on my spending\" in question.lower():\n",
        "        # Use transaction data for this question\n",
        "        answer = get_advice('transactions.csv', question)\n",
        "    else:\n",
        "        # Regular advice\n",
        "        answer = financial_sage(question)\n",
        "\n",
        "    print(f\"Sage: {answer[:200]}...\")  # Show first 200 characters\n",
        "    print(\"-\" * 30)"
      ],
      "execution_count": 22,
      "outputs": [
        {
          "output_type": "stream",
          "name": "stdout",
          "text": [
            "Testing Financial Sage with various questions:\n",
            "==================================================\n",
            "\n",
            "Question: I'm 22 and just started working. How should I begin investing?\n",
            "Sage: Congratulations on starting your investment journey! As a 22-year-old beginner, you're taking the right step towards securing your financial future. Here's a simple and structured approach to help you...\n",
            "------------------------------\n",
            "\n",
            "Question: What's the difference between stocks and bonds?\n",
            "Sage: Stocks and bonds are two main types of investment vehicles that help individuals, institutions, and governments raise capital for various purposes. Here's a brief overview of each:\n",
            "\n",
            "** Stocks (Equitie...\n",
            "------------------------------\n",
            "\n",
            "Question: How much should I have in an emergency fund?\n",
            "Sage: The amount you should have in an emergency fund varies depending on several factors, such as your income, expenses, debt, and job security. Generally, it's recommended to have 3-6 months' worth of liv...\n",
            "------------------------------\n",
            "\n",
            "Question: Is it better to pay off debt or invest?\n",
            "Sage: Whether it's better to pay off debt or invest depends on your individual financial situation, goals, and priorities. Here's a balanced analysis to help you make an informed decision:\n",
            "\n",
            "**Pros of paying...\n",
            "------------------------------\n",
            "\n",
            "Question: Based on my spending, should I be worried about anything?\n",
            "Sage: Based on the user's financial data, here's a personalized assessment and advice:\n",
            "\n",
            "**Overall Assessment:**\n",
            "The user appears to be in a relatively good financial position, with a high savings rate of 94...\n",
            "------------------------------\n"
          ]
        }
      ]
    },
    {
      "cell_type": "markdown",
      "metadata": {
        "id": "J8JKbt2lDnuK"
      },
      "source": [
        "## Step 8: Ask AI for Improvements\n",
        "\n",
        "Let's ask AI how to make our chatbot better.  Try this prompt:\n",
        "\n",
        "```\n",
        "I built a simple financial advisor chatbot that:\n",
        "- Answers financial questions with educational advice\n",
        "- Analyzes CSV transaction data\n",
        "- Combines data analysis with personalized advice\n",
        "\n",
        "How could I improve this chatbot? What features would make it more useful?\n",
        "What are potential issues I should watch out for?\n",
        "```"
      ]
    },
    {
      "cell_type": "markdown",
      "metadata": {
        "id": "SR2UyxQwDnuK"
      },
      "source": [
        "## Your Turn: Extend the Chatbot\n",
        "\n",
        "Try adding one of these features with AI help:\n",
        "\n",
        "* Add budget planning capabilities\n",
        "* Include goal-setting and tracking\n",
        "* Add investment portfolio analysis\n",
        "* Create spending categorization rules\n",
        "* Add financial education tips"
      ]
    },
    {
      "cell_type": "code",
      "metadata": {
        "id": "dgcu7TeRDnuL",
        "colab": {
          "base_uri": "https://localhost:8080/"
        },
        "outputId": "13b5326d-9440-43a2-d8d2-d2eb43d3f2bd"
      },
      "source": [
        "# Implement your chosen extension here\n",
        "def my_chatbot_extension():\n",
        "    \"\"\"Your custom extension to the financial sage\"\"\"\n",
        "\n",
        "    # TODO: Add your feature based on AI suggestions\n",
        "    print(\"Starting the Financial Sage Chatbot with Education Tips...\")\n",
        "    full_financial_sage_chatbot()\n",
        "\n",
        "# Test your extension\n",
        "my_chatbot_extension()"
      ],
      "execution_count": null,
      "outputs": [
        {
          "output_type": "stream",
          "name": "stdout",
          "text": [
            "Starting the Financial Sage Chatbot with Education Tips...\n",
            "💰 Welcome to the Financial Sage! 💰\n",
            "Ask me any financial question, or type 'analyse' to look at your transactions.\n",
            "Type 'tip' for a financial education tip.\n",
            "Type 'quit' to exit.\n",
            "\n",
            "You: hi\n",
            "Sage: Welcome! I'm delighted to share my knowledge with you on managing your finances effectively. Remember, while I'll offer guidance and insights, please keep in mind that I'm an educational resource only – if you're considering a specific investment or have personalized financial goals, it's always best to consult a qualified financial advisor.\n",
            "\n",
            "As we explore the world of personal finance together, I want to remind you that smart money habits can set you up for long-term success. Whether you're just starting to build your wealth or looking to optimize what you already have, we'll cover topics such as budgeting, saving, investing, and more.\n",
            "\n",
            "So, what's on your mind? Are you:\n",
            "\n",
            "1. Looking to create a budget that works for you?\n",
            "2. Trying to pay off debt or improve your credit score?\n",
            "3. Considering entering the world of investing?\n",
            "4. Anything else finance-related?\n",
            "\n",
            "Let me know, and we'll get started!\n",
            "\n"
          ]
        }
      ]
    },
    {
      "cell_type": "code",
      "metadata": {
        "id": "5772cf89"
      },
      "source": [
        "import os\n",
        "import pandas as pd\n",
        "from hands_on_ai.chat import get_response\n",
        "\n",
        "def financial_sage(question: str, personality: str):\n",
        "    \"\"\"\n",
        "    A personality bot that provides educational financial guidance with a given personality.\n",
        "    \"\"\"\n",
        "    prompt = personality + question\n",
        "    return get_response(prompt=prompt)\n",
        "\n",
        "def analyse_transactions(csv_file):\n",
        "    \"\"\"Analyze user's transaction data\"\"\"\n",
        "    # Load the data\n",
        "    try:\n",
        "        df = pd.read_csv(csv_file)\n",
        "    except FileNotFoundError:\n",
        "        return \"Error: Transaction file not found.\"\n",
        "\n",
        "    if df.empty:\n",
        "        return \"No transaction data available for analysis.\"\n",
        "\n",
        "    # Basic calculations\n",
        "    total_income = df[df['Amount'] > 0]['Amount'].sum()\n",
        "    total_expenses = abs(df[df['Amount'] < 0]['Amount'].sum())\n",
        "    net_savings = total_income - total_expenses\n",
        "    savings_rate = (net_savings / total_income * 100) if total_income > 0 else 0\n",
        "\n",
        "    # Spending by category\n",
        "    expense_by_category = df[df['Amount'] < 0].groupby('Category')['Amount'].sum().abs()\n",
        "\n",
        "    # Create summary for AI analysis\n",
        "    summary = f\"\"\"\n",
        "Financial Summary:\n",
        "- Total Income: ${total_income:.2f}\n",
        "- Total Expenses: ${total_expenses:.2f}\n",
        "- Net Savings: ${net_savings:.2f}\n",
        "- Savings Rate: {savings_rate:.1f}%\n",
        "\n",
        "Spending by Category:\n",
        "{expense_by_category.to_string()}\n",
        "\"\"\"\n",
        "\n",
        "    return summary\n",
        "\n",
        "def get_advice(csv_file, question):\n",
        "    \"\"\"Get advice based on transaction data and user question\"\"\"\n",
        "\n",
        "    # Get transaction analysis\n",
        "    analysis = analyse_transactions(csv_file)\n",
        "\n",
        "    # Combine with user question\n",
        "    full_prompt = f\"\"\"\n",
        "Here's the user's financial data:\n",
        "{analysis}\n",
        "\n",
        "User question: {question}\n",
        "\n",
        "Based on this financial data, provide personalized educational advice.\n",
        "\"\"\"\n",
        "\n",
        "    personality = \"\"\"\n",
        "    You are a wise Financial Sage with years of experience in personal finance.\n",
        "    You give educational, general advice about money management, investing, and budgeting.\n",
        "    You speak in a friendly but knowledgeable tone.\n",
        "    Always remind users that this is educational content, not professional financial advice.\n",
        "    \"\"\"\n",
        "\n",
        "    advice = financial_sage(full_prompt, personality)\n",
        "    return advice\n",
        "\n",
        "def get_financial_education_tip():\n",
        "    \"\"\"Provides a random financial education tip.\"\"\"\n",
        "    tips = [\n",
        "        \"Saving even a small amount regularly can add up significantly over time.\",\n",
        "        \"Understanding compound interest is key to long-term wealth building.\",\n",
        "        \"Creating a budget helps you understand where your money is going and identify areas to save.\",\n",
        "        \"An emergency fund can protect you from unexpected expenses and prevent debt.\",\n",
        "        \"Diversifying your investments can help reduce risk.\",\n",
        "        \"It's important to review your financial goals and adjust your plan regularly.\",\n",
        "        \"Paying off high-interest debt should be a priority.\",\n",
        "        \"Understanding your credit score is important for borrowing money in the future.\"\n",
        "    ]\n",
        "    import random\n",
        "    return random.choice(tips)\n",
        "\n",
        "\n",
        "def full_financial_sage_chatbot():\n",
        "    \"\"\"Interactive chat with the full financial sage\"\"\"\n",
        "\n",
        "    print(\"💰 Welcome to the Financial Sage! 💰\")\n",
        "    print(\"Ask me any financial question, or type 'analyse' to look at your transactions.\")\n",
        "    print(\"Type 'tip' for a financial education tip.\")\n",
        "    print(\"Type 'quit' to exit.\\n\")\n",
        "\n",
        "    personality = \"\"\"\n",
        "    You are a wise Financial Sage with years of experience in personal finance.\n",
        "    You give educational, general advice about money management, investing, and budgeting.\n",
        "    You speak in a friendly but knowledgeable tone.\n",
        "    Always remind users that this is educational content, not professional financial advice.\n",
        "    \"\"\"\n",
        "\n",
        "    while True:\n",
        "        user_input = input(\"You: \")\n",
        "\n",
        "        if user_input.lower() == 'quit':\n",
        "            print(\"Sage: May your finances prosper! Goodbye!\")\n",
        "            break\n",
        "        elif user_input.lower() == 'analyse':\n",
        "            # Analyze transaction data\n",
        "            analysis = analyse_transactions('transactions.csv')\n",
        "            print(f\"Sage: Here's your financial analysis:\\n{analysis}\")\n",
        "\n",
        "            follow_up = input(\"\\nAny questions about your spending? \")\n",
        "            if follow_up.strip():\n",
        "                advice = get_advice('transactions.csv', follow_up)\n",
        "                print(f\"Sage: {advice}\")\n",
        "        elif user_input.lower() == 'tip':\n",
        "            tip = get_financial_education_tip()\n",
        "            print(f\"Sage: Here's a financial tip for you:\\n{tip}\")\n",
        "        else:\n",
        "            # Regular financial advice\n",
        "            advice = financial_sage(user_input, personality)\n",
        "            print(f\"Sage: {advice}\")\n",
        "\n",
        "        print()  # Add spacing"
      ],
      "execution_count": 25,
      "outputs": []
    },
    {
      "cell_type": "markdown",
      "metadata": {
        "id": "QHB0BFl5DnuL"
      },
      "source": [
        "## Key Takeaways\n",
        "\n",
        "You've built a financial advisor chatbot that:\n",
        "- Uses AI to provide educational financial advice\n",
        "- Analyzes real transaction data from CSV files\n",
        "- Combines data insights with personalized recommendations\n",
        "- Demonstrates how to use LLMs for domain-specific applications\n",
        "\n",
        "This shows how AI can be used to create helpful financial tools while maintaining appropriate disclaimers about not providing professional financial advice.\n",
        "\n",
        "## Next Steps\n",
        "\n",
        "- Upload your own transactions.csv file and test the analysis\n",
        "- Add more sophisticated financial calculations\n",
        "- Integrate with the API and scraping tutorials\n",
        "- Build a Gradio interface for better user experience\n",
        "- Explore more advanced financial analysis features\n",
        "\n",
        "Remember: This is educational content and not professional financial advice!"
      ]
    }
  ],
  "metadata": {
    "kernelspec": {
      "name": "python3",
      "language": "python",
      "display_name": "Python 3 (ipykernel)"
    },
    "colab": {
      "provenance": [],
      "include_colab_link": true
    }
  },
  "nbformat": 4,
  "nbformat_minor": 0
}
