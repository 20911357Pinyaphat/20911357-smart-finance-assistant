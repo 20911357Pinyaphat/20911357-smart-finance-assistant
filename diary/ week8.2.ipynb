{
  "cells": [
    {
      "cell_type": "markdown",
      "metadata": {
        "id": "view-in-github",
        "colab_type": "text"
      },
      "source": [
        "<a href=\"https://colab.research.google.com/github/20911357Pinyaphat/20911357-smart-finance-assistant/blob/main/diary/%20week8.2.ipynb\" target=\"_parent\"><img src=\"https://colab.research.google.com/assets/colab-badge.svg\" alt=\"Open In Colab\"/></a>"
      ]
    },
    {
      "cell_type": "markdown",
      "metadata": {
        "id": "a6Me1tfTRyEX"
      },
      "source": [
        "# Getting Stock Data with APIs\n",
        "**Learn to fetch real stock prices and create simple visualizations**\n",
        "\n",
        "## What You'll Build\n",
        "A simple tool that gets stock price data from a free API and creates a basic chart using pandas plotting.\n",
        "\n",
        "## Setup"
      ]
    },
    {
      "cell_type": "code",
      "source": [
        "# Install what we need\n",
        "!pip install pandas requests matplotlib"
      ],
      "metadata": {
        "id": "djUP6xnyTCoF",
        "colab": {
          "base_uri": "https://localhost:8080/"
        },
        "outputId": "50e378ef-614c-4d0b-9d95-01dc7fe6a3b5"
      },
      "execution_count": 1,
      "outputs": [
        {
          "output_type": "stream",
          "name": "stdout",
          "text": [
            "Requirement already satisfied: pandas in /usr/local/lib/python3.12/dist-packages (2.2.2)\n",
            "Requirement already satisfied: requests in /usr/local/lib/python3.12/dist-packages (2.32.4)\n",
            "Requirement already satisfied: matplotlib in /usr/local/lib/python3.12/dist-packages (3.10.0)\n",
            "Requirement already satisfied: numpy>=1.26.0 in /usr/local/lib/python3.12/dist-packages (from pandas) (2.0.2)\n",
            "Requirement already satisfied: python-dateutil>=2.8.2 in /usr/local/lib/python3.12/dist-packages (from pandas) (2.9.0.post0)\n",
            "Requirement already satisfied: pytz>=2020.1 in /usr/local/lib/python3.12/dist-packages (from pandas) (2025.2)\n",
            "Requirement already satisfied: tzdata>=2022.7 in /usr/local/lib/python3.12/dist-packages (from pandas) (2025.2)\n",
            "Requirement already satisfied: charset_normalizer<4,>=2 in /usr/local/lib/python3.12/dist-packages (from requests) (3.4.4)\n",
            "Requirement already satisfied: idna<4,>=2.5 in /usr/local/lib/python3.12/dist-packages (from requests) (3.11)\n",
            "Requirement already satisfied: urllib3<3,>=1.21.1 in /usr/local/lib/python3.12/dist-packages (from requests) (2.5.0)\n",
            "Requirement already satisfied: certifi>=2017.4.17 in /usr/local/lib/python3.12/dist-packages (from requests) (2025.10.5)\n",
            "Requirement already satisfied: contourpy>=1.0.1 in /usr/local/lib/python3.12/dist-packages (from matplotlib) (1.3.3)\n",
            "Requirement already satisfied: cycler>=0.10 in /usr/local/lib/python3.12/dist-packages (from matplotlib) (0.12.1)\n",
            "Requirement already satisfied: fonttools>=4.22.0 in /usr/local/lib/python3.12/dist-packages (from matplotlib) (4.60.1)\n",
            "Requirement already satisfied: kiwisolver>=1.3.1 in /usr/local/lib/python3.12/dist-packages (from matplotlib) (1.4.9)\n",
            "Requirement already satisfied: packaging>=20.0 in /usr/local/lib/python3.12/dist-packages (from matplotlib) (25.0)\n",
            "Requirement already satisfied: pillow>=8 in /usr/local/lib/python3.12/dist-packages (from matplotlib) (11.3.0)\n",
            "Requirement already satisfied: pyparsing>=2.3.1 in /usr/local/lib/python3.12/dist-packages (from matplotlib) (3.2.5)\n",
            "Requirement already satisfied: six>=1.5 in /usr/local/lib/python3.12/dist-packages (from python-dateutil>=2.8.2->pandas) (1.17.0)\n"
          ]
        }
      ]
    },
    {
      "cell_type": "code",
      "metadata": {
        "id": "MMJYZu5RRyEb"
      },
      "source": [
        "# Import libraries\n",
        "import pandas as pd\n",
        "import requests\n",
        "import matplotlib.pyplot as plt\n",
        "from datetime import datetime"
      ],
      "execution_count": 3,
      "outputs": []
    },
    {
      "cell_type": "markdown",
      "metadata": {
        "id": "FAmO-0QORyEe"
      },
      "source": [
        "## Step 1: Ask AI to Help Choose a Stock API\n",
        "\n",
        "Let's start by asking Colab's AI about free stock APIs. But for this tutorial, we'll simulate the conversation.\n",
        "```\n",
        "Ask Colab AI: 'What are some free stock APIs I can use for learning? I want to get basic stock price data.'\n",
        "\n",
        "AI Response would suggest options like:\n",
        "- Alpha Vantage (free tier)\n",
        "- Yahoo Finance (via yfinance)\n",
        "- IEX Cloud (free tier)\n",
        "- Finnhub (free tier)\n",
        "```\n",
        "For this tutorial, we'll use Alpha Vantage since it's beginner-friendly."
      ]
    },
    {
      "cell_type": "markdown",
      "metadata": {
        "id": "G6cIx-glRyEh"
      },
      "source": [
        "## Step 2: Ask AI to Help Build the API Call\n",
        "\n",
        "Let's ask AI to help us structure the API request, you might get something like"
      ]
    },
    {
      "cell_type": "code",
      "metadata": {
        "id": "gYKPAvPwRyEj",
        "colab": {
          "base_uri": "https://localhost:8080/"
        },
        "outputId": "fc57284f-d091-4cba-cd65-eb197c2d7c8b"
      },
      "source": [
        "def get_stock_data(symbol, api_key=\"demo\"):\n",
        "    \"\"\"\n",
        "    Get stock data from Alpha Vantage\n",
        "    Using 'demo' key for testing (limited data)\n",
        "    \"\"\"\n",
        "\n",
        "    base_url = \"https://www.alphavantage.co/query\"\n",
        "\n",
        "    # Parameters for the API call\n",
        "    params = {\n",
        "        'function': 'TIME_SERIES_DAILY',\n",
        "        'symbol': symbol,\n",
        "        'apikey': api_key,\n",
        "        'outputsize': 'compact'  # Last 100 days\n",
        "    }\n",
        "\n",
        "    try:\n",
        "        response = requests.get(base_url, params=params)\n",
        "        response.raise_for_status() # Raise an exception for bad status codes\n",
        "        data = response.json()\n",
        "        return data\n",
        "    except requests.exceptions.RequestException as e:\n",
        "        print(f\"Error during API call: {e}\")\n",
        "        return {\"error\": str(e)}\n",
        "    except Exception as e:\n",
        "        print(f\"An unexpected error occurred: {e}\")\n",
        "        return {\"error\": str(e)}\n",
        "\n",
        "\n",
        "# Test with demo data (IBM stock)\n",
        "stock_data = get_stock_data(\"IBM\", api_key=\"YOUR_REAL_KEY_HERE\") # Make sure you've replaced \"YOUR_REAL_KEY_HERE\" with your actual key\n",
        "print(\"\\n--- API Response Keys ---\")\n",
        "print(stock_data.keys())\n",
        "print(\"-------------------------\\n\")"
      ],
      "execution_count": 15,
      "outputs": [
        {
          "output_type": "stream",
          "name": "stdout",
          "text": [
            "\n",
            "--- API Response Keys ---\n",
            "dict_keys(['Meta Data', 'Time Series (Daily)'])\n",
            "-------------------------\n",
            "\n"
          ]
        }
      ]
    },
    {
      "cell_type": "markdown",
      "source": [
        "Alpha Vantage keeps that key just for quick tests, and it only gives you a small sample (IBM daily data) or sometimes just the “Information” notice you’re seeing.\n",
        "\n",
        "What to do\n",
        "\n",
        "Sign up (free)\n",
        "Go to https://www.alphavantage.co/support/#api-key\n",
        " and enter your email.\n",
        "They immediately email you a personal API key—no credit card, no waiting.\n",
        "\n",
        "Use your key in the code\n",
        "Replace the default \"demo\" with the key you receive:\n",
        "```python\n",
        "stock_data = get_stock_data(\"IBM\", api_key=\"YOUR_REAL_KEY_HERE\")\n",
        "print(stock_data.keys())\n",
        "```\n",
        "\n",
        "or edit the function call everywhere you need it.\n",
        "\n",
        "Respect their limits\n",
        "* The free tier allows 5 calls per minute and 500 calls per day.\n",
        "* If you need more, they have paid plans.\n",
        "\n",
        "Once you use your own key, the \"Information\" message will be replaced with real stock data in the usual \"Meta Data\" and \"Time Series (Daily)\" fields."
      ],
      "metadata": {
        "id": "vNWRFtgeTqmY"
      }
    },
    {
      "cell_type": "markdown",
      "metadata": {
        "id": "V8rGpqHTRyEl"
      },
      "source": [
        "## Step 3: Ask AI to Help Parse the Data\n",
        "\n",
        "Can you think of a prompt to the AI to help write the function?  The API returns JSON. Let's ask AI how to convert it to a pandas DataFrame:"
      ]
    },
    {
      "cell_type": "code",
      "metadata": {
        "id": "fKIEt0tvRyEm",
        "colab": {
          "base_uri": "https://localhost:8080/"
        },
        "outputId": "ef2f4dc8-137b-43f8-881d-059195b2b1b8"
      },
      "source": [
        "# Assuming stock_data is already fetched from the previous cell\n",
        "\n",
        "def parse_stock_data(stock_data, symbol):\n",
        "    \"\"\"Convert API response to pandas DataFrame\"\"\"\n",
        "\n",
        "    # Check if we got valid data\n",
        "    if \"Time Series (Daily)\" not in stock_data:\n",
        "        print(\"Error: No stock data found in the API response.\")\n",
        "        print(\"Available keys in response:\", list(stock_data.keys()))\n",
        "        return None\n",
        "\n",
        "    # Extract the time series data\n",
        "    time_series = stock_data[\"Time Series (Daily)\"]\n",
        "\n",
        "    # Convert to DataFrame\n",
        "    df = pd.DataFrame.from_dict(time_series, orient='index')\n",
        "\n",
        "    # Clean up column names\n",
        "    df.columns = ['Open', 'High', 'Low', 'Close', 'Volume']\n",
        "\n",
        "    # Convert to numeric\n",
        "    df = df.astype(float)\n",
        "\n",
        "    # Convert index to datetime\n",
        "    df.index = pd.to_datetime(df.index)\n",
        "\n",
        "    # Sort by date\n",
        "    df = df.sort_index()\n",
        "\n",
        "    # Add symbol column\n",
        "    df['Symbol'] = symbol\n",
        "\n",
        "    return df\n",
        "\n",
        "# Parse the stock data\n",
        "df = parse_stock_data(stock_data, \"IBM\")\n",
        "\n",
        "if df is not None:\n",
        "    print(\"\\n--- Parsed DataFrame Head ---\")\n",
        "    print(df.head())\n",
        "    print(f\"\\nData shape: {df.shape}\")\n",
        "    print(\"---------------------------\\n\")\n",
        "else:\n",
        "    print(\"Could not parse stock data - df is None.\")"
      ],
      "execution_count": 16,
      "outputs": [
        {
          "output_type": "stream",
          "name": "stdout",
          "text": [
            "\n",
            "--- Parsed DataFrame Head ---\n",
            "              Open     High     Low   Close     Volume Symbol\n",
            "2025-05-28  263.16  265.000  259.94  260.24  2318437.0    IBM\n",
            "2025-05-29  260.75  261.130  256.77  258.69  2295228.0    IBM\n",
            "2025-05-30  258.75  260.120  257.10  259.06  9668923.0    IBM\n",
            "2025-06-02  257.85  263.976  257.22  263.90  2831881.0    IBM\n",
            "2025-06-03  263.35  265.560  262.58  265.20  2494922.0    IBM\n",
            "\n",
            "Data shape: (100, 6)\n",
            "---------------------------\n",
            "\n"
          ]
        }
      ]
    },
    {
      "cell_type": "markdown",
      "metadata": {
        "id": "yZSOFswnRyEo"
      },
      "source": [
        "## Step 4: Ask AI to Help Create a Simple Chart\n",
        "\n",
        "Try this prompt (can you make it better?):\n",
        "\n",
        "```\n",
        "How do I create a simple line chart of stock prices using pandas?\n",
        "```\n",
        "\n",
        "You might get something like.  Now let's visualize the data:"
      ]
    },
    {
      "cell_type": "code",
      "metadata": {
        "id": "T3RicXXURyEp",
        "colab": {
          "base_uri": "https://localhost:8080/"
        },
        "outputId": "b47fd94e-4222-4e8b-c58b-ea6e9c24f1a2"
      },
      "source": [
        "import matplotlib.pyplot as plt\n",
        "import pandas as pd # Ensure pandas is imported if not already\n",
        "\n",
        "stock_data = get_stock_data(\"IBM\", api_key=\"YOUR_REAL_KEY_HERE\")\n",
        "print(stock_data.keys())\n",
        "def plot_stock_price(df, symbol):\n",
        "    if df is None or df.empty:\n",
        "        print(\"No data to plot\")\n",
        "        return\n",
        "\n",
        "    # Create a figure and an axes object\n",
        "    fig, ax = plt.subplots(figsize=(12, 6)) # You can adjust figure size here\n",
        "\n",
        "    # Plot the 'Close' price\n",
        "    ax.plot(df.index, df['Close'], label='Close Price')\n",
        "\n",
        "    # Set title and labels\n",
        "    ax.set_title(f\"{symbol} Stock Price\")\n",
        "    ax.set_xlabel(\"Date\")\n",
        "    ax.set_ylabel(\"Price\")\n",
        "\n",
        "    # Add a legend\n",
        "    ax.legend()\n",
        "\n",
        "    # Rotate x-axis labels for better readability\n",
        "    plt.xticks(rotation=45)\n",
        "\n",
        "    # Improve layout\n",
        "    plt.tight_layout()\n",
        "\n",
        "    # Show the plot\n",
        "    plt.show()\n",
        "\n",
        "\n",
        "    # Basic stats\n",
        "    print(f\"\\n{symbol} Stats\")\n",
        "    print(\"Latest:\", df['Close'].iloc[-1])\n",
        "    print(\"High:\",   df['Close'].max())\n",
        "    print(\"Low:\",    df['Close'].min())"
      ],
      "execution_count": 14,
      "outputs": [
        {
          "output_type": "stream",
          "name": "stdout",
          "text": [
            "dict_keys(['Meta Data', 'Time Series (Daily)'])\n"
          ]
        }
      ]
    },
    {
      "cell_type": "markdown",
      "metadata": {
        "id": "XAuFgnvARyEq"
      },
      "source": [
        "## Step 5: Extension Ideas\n",
        "\n",
        "Let's expand to:\n",
        "* compare multiple stocks\n",
        "* build a simple analysis function (see earlier notebook)\n",
        "* Real-time price updates\n",
        "* More technical indicators (RSI, MACD)\n",
        "* Portfolio tracking\n",
        "* Price alerts\n",
        "* Integration with a web interface\n",
        "* Fundamental data (P/E ratios, etc.)\n",
        "* News sentiment analysis\n",
        "\n"
      ]
    },
    {
      "cell_type": "markdown",
      "metadata": {
        "id": "jlP3FoJxRyEw"
      },
      "source": [
        "## Your Turn: Add a Feature\n",
        "\n",
        "Try adding one feature with AI help:"
      ]
    },
    {
      "cell_type": "code",
      "metadata": {
        "id": "-t6HrOYPRyEw",
        "colab": {
          "base_uri": "https://localhost:8080/"
        },
        "outputId": "3211a2f6-8214-4ab6-cbbf-a60ee0e5b1b0"
      },
      "source": [
        "import pandas as pd\n",
        "\n",
        "# Ask AI to help you add a specific feature\n",
        "# Example: \"Help me add a function to calculate the RSI (Relative Strength Index)\"\n",
        "\n",
        "def calculate_rsi(df, window=14):\n",
        "    \"\"\"Calculate RSI based on AI suggestions\"\"\"\n",
        "    if df is None or df.empty:\n",
        "        print(\"No data to calculate RSI\")\n",
        "        return None\n",
        "\n",
        "    # Calculate price changes\n",
        "    delta = df['Close'].diff()\n",
        "\n",
        "    # Separate gains and losses\n",
        "    gain = delta.copy()\n",
        "    loss = delta.copy()\n",
        "\n",
        "    gain[gain < 0] = 0\n",
        "    loss[loss > 0] = 0\n",
        "\n",
        "    # Calculate average gain and average loss\n",
        "    avg_gain = gain.rolling(window=window).mean()\n",
        "    avg_loss = loss.abs().rolling(window=window).mean()\n",
        "\n",
        "    # Calculate Relative Strength (RS)\n",
        "    rs = avg_gain / avg_loss\n",
        "\n",
        "    # Calculate Relative Strength Index (RSI)\n",
        "    rsi = 100 - (100 / (1 + rs))\n",
        "\n",
        "    # Add RSI as a new column to the DataFrame\n",
        "    df['RSI'] = rsi\n",
        "\n",
        "    return df\n",
        "\n",
        "# Or ask for help with alerts\n",
        "def price_alert_system(symbol, target_price, current_price):\n",
        "    \"\"\"Simple price alert system\"\"\"\n",
        "\n",
        "    print(\"Price alert system - ask AI for implementation\")\n",
        "    return None\n",
        "\n",
        "print(\"Choose a feature to add and ask Colab AI for help implementing it!\")\n",
        "\n",
        "# Example usage (assuming you have a DataFrame 'df' from previous steps)\n",
        "# After running the cells to get and parse stock data into 'df', you can call:\n",
        "df_with_rsi = calculate_rsi(df.copy()) # Use .copy() to avoid modifying the original df\n",
        "if df_with_rsi is not None:\n",
        "    print(\"\\n--- DataFrame with RSI Head ---\")\n",
        "    print(df_with_rsi.head())\n",
        "    print(\"-------------------------------\\n\")"
      ],
      "execution_count": 18,
      "outputs": [
        {
          "output_type": "stream",
          "name": "stdout",
          "text": [
            "Choose a feature to add and ask Colab AI for help implementing it!\n",
            "\n",
            "--- DataFrame with RSI Head ---\n",
            "              Open     High     Low   Close     Volume Symbol  RSI\n",
            "2025-05-28  263.16  265.000  259.94  260.24  2318437.0    IBM  NaN\n",
            "2025-05-29  260.75  261.130  256.77  258.69  2295228.0    IBM  NaN\n",
            "2025-05-30  258.75  260.120  257.10  259.06  9668923.0    IBM  NaN\n",
            "2025-06-02  257.85  263.976  257.22  263.90  2831881.0    IBM  NaN\n",
            "2025-06-03  263.35  265.560  262.58  265.20  2494922.0    IBM  NaN\n",
            "-------------------------------\n",
            "\n"
          ]
        }
      ]
    },
    {
      "cell_type": "markdown",
      "metadata": {
        "id": "94II63MjRyEx"
      },
      "source": [
        "## Key Takeaways\n",
        "\n",
        "You've built a stock analysis tool that:\n",
        "- Fetches real stock data from an API\n",
        "- Converts JSON to pandas DataFrames\n",
        "- Creates visualizations of stock prices\n",
        "- Calculates basic financial metrics\n",
        "- Compares multiple stocks\n",
        "\n",
        "This demonstrates core skills for financial applications:\n",
        "- API integration\n",
        "- Data processing with pandas\n",
        "- Basic financial analysis\n",
        "- Data visualization\n",
        "\n",
        "## Next Steps\n",
        "\n",
        "- Get a real Alpha Vantage API key for more data\n",
        "- Add more technical indicators\n",
        "- Combine with the chatbot tutorial\n",
        "- Build a Gradio interface for user interaction\n",
        "- Integrate with portfolio tracking\n",
        "\n",
        "The foundation you've built here can be extended into sophisticated financial analysis tools!"
      ]
    }
  ],
  "metadata": {
    "kernelspec": {
      "name": "python3",
      "language": "python",
      "display_name": "Python 3 (ipykernel)"
    },
    "colab": {
      "provenance": [],
      "include_colab_link": true
    }
  },
  "nbformat": 4,
  "nbformat_minor": 0
}